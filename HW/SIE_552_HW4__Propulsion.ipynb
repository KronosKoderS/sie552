{
 "cells": [
  {
   "cell_type": "markdown",
   "metadata": {},
   "source": [
    "# Propulsion System Design\n",
    "\n",
    "This homework assignment is broken up into 3 major sections:\n",
    "\n",
    "1. Thrusters Analysis and Sizing\n",
    "2. Requirement Review and Analysis\n",
    "3. Propulsion System Sizing and System Trades"
   ]
  },
  {
   "cell_type": "markdown",
   "metadata": {},
   "source": [
    "## Thruster Analysis and Sizing\n",
    "\n",
    "From the requirements, we know that initially we'll have the following thrusters:\n",
    "\n",
    "* 6 large thrusters (170 N ea) for MOI\n",
    "* 6 med thrusters (22 N ea) for TCM/DSM and attitude control during MOI\n",
    "* 12 small thrusters (0.9 N ea) for 3-axis stabilization and slew manuevers during nominal science mission\n",
    "\n",
    "We're also given that we'll be using the Mono Methyl Hydrazine propellant.  "
   ]
  },
  {
   "cell_type": "code",
   "execution_count": null,
   "metadata": {
    "collapsed": true
   },
   "outputs": [],
   "source": []
  }
 ],
 "metadata": {
  "kernelspec": {
   "display_name": "Python 3",
   "language": "python",
   "name": "python3"
  },
  "language_info": {
   "codemirror_mode": {
    "name": "ipython",
    "version": 3
   },
   "file_extension": ".py",
   "mimetype": "text/x-python",
   "name": "python",
   "nbconvert_exporter": "python",
   "pygments_lexer": "ipython3",
   "version": "3.6.0"
  }
 },
 "nbformat": 4,
 "nbformat_minor": 0
}
