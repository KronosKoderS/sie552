{
 "cells": [
  {
   "cell_type": "code",
   "execution_count": 17,
   "metadata": {
    "collapsed": true
   },
   "outputs": [],
   "source": [
    "from scipy import polyval, polyfit, sqrt\n",
    "import pandas as pd\n",
    "import numpy as np"
   ]
  },
  {
   "cell_type": "code",
   "execution_count": 2,
   "metadata": {
    "collapsed": false
   },
   "outputs": [
    {
     "data": {
      "text/html": [
       "\n",
       "    <div class=\"bk-root\">\n",
       "        <a href=\"http://bokeh.pydata.org\" target=\"_blank\" class=\"bk-logo bk-logo-small bk-logo-notebook\"></a>\n",
       "        <span id=\"21c89094-b763-48af-a2f7-f9049f644840\">Loading BokehJS ...</span>\n",
       "    </div>"
      ]
     },
     "metadata": {},
     "output_type": "display_data"
    },
    {
     "data": {
      "application/javascript": [
       "\n",
       "(function(global) {\n",
       "  function now() {\n",
       "    return new Date();\n",
       "  }\n",
       "\n",
       "  var force = true;\n",
       "\n",
       "  if (typeof (window._bokeh_onload_callbacks) === \"undefined\" || force === true) {\n",
       "    window._bokeh_onload_callbacks = [];\n",
       "    window._bokeh_is_loading = undefined;\n",
       "  }\n",
       "\n",
       "\n",
       "  \n",
       "  if (typeof (window._bokeh_timeout) === \"undefined\" || force === true) {\n",
       "    window._bokeh_timeout = Date.now() + 5000;\n",
       "    window._bokeh_failed_load = false;\n",
       "  }\n",
       "\n",
       "  var NB_LOAD_WARNING = {'data': {'text/html':\n",
       "     \"<div style='background-color: #fdd'>\\n\"+\n",
       "     \"<p>\\n\"+\n",
       "     \"BokehJS does not appear to have successfully loaded. If loading BokehJS from CDN, this \\n\"+\n",
       "     \"may be due to a slow or bad network connection. Possible fixes:\\n\"+\n",
       "     \"</p>\\n\"+\n",
       "     \"<ul>\\n\"+\n",
       "     \"<li>re-rerun `output_notebook()` to attempt to load from CDN again, or</li>\\n\"+\n",
       "     \"<li>use INLINE resources instead, as so:</li>\\n\"+\n",
       "     \"</ul>\\n\"+\n",
       "     \"<code>\\n\"+\n",
       "     \"from bokeh.resources import INLINE\\n\"+\n",
       "     \"output_notebook(resources=INLINE)\\n\"+\n",
       "     \"</code>\\n\"+\n",
       "     \"</div>\"}};\n",
       "\n",
       "  function display_loaded() {\n",
       "    if (window.Bokeh !== undefined) {\n",
       "      document.getElementById(\"21c89094-b763-48af-a2f7-f9049f644840\").textContent = \"BokehJS successfully loaded.\";\n",
       "    } else if (Date.now() < window._bokeh_timeout) {\n",
       "      setTimeout(display_loaded, 100)\n",
       "    }\n",
       "  }\n",
       "\n",
       "  function run_callbacks() {\n",
       "    window._bokeh_onload_callbacks.forEach(function(callback) { callback() });\n",
       "    delete window._bokeh_onload_callbacks\n",
       "    console.info(\"Bokeh: all callbacks have finished\");\n",
       "  }\n",
       "\n",
       "  function load_libs(js_urls, callback) {\n",
       "    window._bokeh_onload_callbacks.push(callback);\n",
       "    if (window._bokeh_is_loading > 0) {\n",
       "      console.log(\"Bokeh: BokehJS is being loaded, scheduling callback at\", now());\n",
       "      return null;\n",
       "    }\n",
       "    if (js_urls == null || js_urls.length === 0) {\n",
       "      run_callbacks();\n",
       "      return null;\n",
       "    }\n",
       "    console.log(\"Bokeh: BokehJS not loaded, scheduling load and callback at\", now());\n",
       "    window._bokeh_is_loading = js_urls.length;\n",
       "    for (var i = 0; i < js_urls.length; i++) {\n",
       "      var url = js_urls[i];\n",
       "      var s = document.createElement('script');\n",
       "      s.src = url;\n",
       "      s.async = false;\n",
       "      s.onreadystatechange = s.onload = function() {\n",
       "        window._bokeh_is_loading--;\n",
       "        if (window._bokeh_is_loading === 0) {\n",
       "          console.log(\"Bokeh: all BokehJS libraries loaded\");\n",
       "          run_callbacks()\n",
       "        }\n",
       "      };\n",
       "      s.onerror = function() {\n",
       "        console.warn(\"failed to load library \" + url);\n",
       "      };\n",
       "      console.log(\"Bokeh: injecting script tag for BokehJS library: \", url);\n",
       "      document.getElementsByTagName(\"head\")[0].appendChild(s);\n",
       "    }\n",
       "  };var element = document.getElementById(\"21c89094-b763-48af-a2f7-f9049f644840\");\n",
       "  if (element == null) {\n",
       "    console.log(\"Bokeh: ERROR: autoload.js configured with elementid '21c89094-b763-48af-a2f7-f9049f644840' but no matching script tag was found. \")\n",
       "    return false;\n",
       "  }\n",
       "\n",
       "  var js_urls = [\"https://cdn.pydata.org/bokeh/release/bokeh-0.12.4.min.js\", \"https://cdn.pydata.org/bokeh/release/bokeh-widgets-0.12.4.min.js\"];\n",
       "\n",
       "  var inline_js = [\n",
       "    function(Bokeh) {\n",
       "      Bokeh.set_log_level(\"info\");\n",
       "    },\n",
       "    \n",
       "    function(Bokeh) {\n",
       "      \n",
       "      document.getElementById(\"21c89094-b763-48af-a2f7-f9049f644840\").textContent = \"BokehJS is loading...\";\n",
       "    },\n",
       "    function(Bokeh) {\n",
       "      console.log(\"Bokeh: injecting CSS: https://cdn.pydata.org/bokeh/release/bokeh-0.12.4.min.css\");\n",
       "      Bokeh.embed.inject_css(\"https://cdn.pydata.org/bokeh/release/bokeh-0.12.4.min.css\");\n",
       "      console.log(\"Bokeh: injecting CSS: https://cdn.pydata.org/bokeh/release/bokeh-widgets-0.12.4.min.css\");\n",
       "      Bokeh.embed.inject_css(\"https://cdn.pydata.org/bokeh/release/bokeh-widgets-0.12.4.min.css\");\n",
       "    }\n",
       "  ];\n",
       "\n",
       "  function run_inline_js() {\n",
       "    \n",
       "    if ((window.Bokeh !== undefined) || (force === true)) {\n",
       "      for (var i = 0; i < inline_js.length; i++) {\n",
       "        inline_js[i](window.Bokeh);\n",
       "      }if (force === true) {\n",
       "        display_loaded();\n",
       "      }} else if (Date.now() < window._bokeh_timeout) {\n",
       "      setTimeout(run_inline_js, 100);\n",
       "    } else if (!window._bokeh_failed_load) {\n",
       "      console.log(\"Bokeh: BokehJS failed to load within specified timeout.\");\n",
       "      window._bokeh_failed_load = true;\n",
       "    } else if (force !== true) {\n",
       "      var cell = $(document.getElementById(\"21c89094-b763-48af-a2f7-f9049f644840\")).parents('.cell').data().cell;\n",
       "      cell.output_area.append_execute_result(NB_LOAD_WARNING)\n",
       "    }\n",
       "\n",
       "  }\n",
       "\n",
       "  if (window._bokeh_is_loading === 0) {\n",
       "    console.log(\"Bokeh: BokehJS loaded, going straight to plotting\");\n",
       "    run_inline_js();\n",
       "  } else {\n",
       "    load_libs(js_urls, function() {\n",
       "      console.log(\"Bokeh: BokehJS plotting callback run at\", now());\n",
       "      run_inline_js();\n",
       "    });\n",
       "  }\n",
       "}(this));"
      ]
     },
     "metadata": {},
     "output_type": "display_data"
    }
   ],
   "source": [
    "from bokeh.plotting import figure, show\n",
    "from bokeh.io import output_notebook\n",
    "output_notebook()"
   ]
  },
  {
   "cell_type": "markdown",
   "metadata": {},
   "source": [
    "# Homework 7\n",
    "\n"
   ]
  },
  {
   "cell_type": "markdown",
   "metadata": {
    "collapsed": true
   },
   "source": [
    "## Power Estimation\n",
    "\n",
    "In this homework, we're attempting to more accurately predict the power of a spacecraft using a regression analysis of previous space craft. The following spacecraft were used for this analysis:\n",
    "\n",
    "* Mars Reconnasaince Orbiter (MRO)\n",
    "* Lunar Reconnassaince Orbiter (LRO)\n",
    "* Mars Odyssey 2001 (MO)\n",
    "* Cassini Spacecraft (CS)\n",
    "* New Horizons (NH)\n",
    "\n",
    "*Note: JUNO was also supposed to be a part of this analysis, however, I was unable to determine the payload power for this spacecraft*\n",
    "\n",
    "<table>\n",
    "    <tr><th>Spacecraft</th><th>Payload Power (W)</th><th>Total Power (W)</th></tr>\n",
    "    <tr><td>MRO</td>       <td>65</td>               <td>2000</td>           </tr>\n",
    "    <tr><td>LRO</td>       <td>112</td>              <td>685</td>            </tr>\n",
    "    <tr><td>MO</td>        <td>73</td>               <td>750</td>            </tr>\n",
    "    <tr><td>CS</td>        <td>348</td>              <td>885</td>            </tr>\n",
    "    <tr><td>NH</td>        <td>12</td>               <td>180</td>            </tr>\n",
    "</table>"
   ]
  },
  {
   "cell_type": "code",
   "execution_count": 10,
   "metadata": {
    "collapsed": true
   },
   "outputs": [],
   "source": [
    "payload_power = [189, 112, 73, 348, 12]\n",
    "total_power = [600, 685, 750, 885, 180]\n",
    "\n",
    "# Linear Regression:\n",
    "(ar, br) = polyfit(payload_power, total_power, 1)\n",
    "r = polyval([ar, br], payload_power)"
   ]
  },
  {
   "cell_type": "code",
   "execution_count": 12,
   "metadata": {
    "collapsed": false
   },
   "outputs": [
    {
     "data": {
      "text/html": [
       "\n",
       "\n",
       "    <div class=\"bk-root\">\n",
       "        <div class=\"bk-plotdiv\" id=\"61351bc0-b2ea-4801-b209-75fa83e5b450\"></div>\n",
       "    </div>\n",
       "<script type=\"text/javascript\">\n",
       "  \n",
       "  (function(global) {\n",
       "    function now() {\n",
       "      return new Date();\n",
       "    }\n",
       "  \n",
       "    var force = false;\n",
       "  \n",
       "    if (typeof (window._bokeh_onload_callbacks) === \"undefined\" || force === true) {\n",
       "      window._bokeh_onload_callbacks = [];\n",
       "      window._bokeh_is_loading = undefined;\n",
       "    }\n",
       "  \n",
       "  \n",
       "    \n",
       "    if (typeof (window._bokeh_timeout) === \"undefined\" || force === true) {\n",
       "      window._bokeh_timeout = Date.now() + 0;\n",
       "      window._bokeh_failed_load = false;\n",
       "    }\n",
       "  \n",
       "    var NB_LOAD_WARNING = {'data': {'text/html':\n",
       "       \"<div style='background-color: #fdd'>\\n\"+\n",
       "       \"<p>\\n\"+\n",
       "       \"BokehJS does not appear to have successfully loaded. If loading BokehJS from CDN, this \\n\"+\n",
       "       \"may be due to a slow or bad network connection. Possible fixes:\\n\"+\n",
       "       \"</p>\\n\"+\n",
       "       \"<ul>\\n\"+\n",
       "       \"<li>re-rerun `output_notebook()` to attempt to load from CDN again, or</li>\\n\"+\n",
       "       \"<li>use INLINE resources instead, as so:</li>\\n\"+\n",
       "       \"</ul>\\n\"+\n",
       "       \"<code>\\n\"+\n",
       "       \"from bokeh.resources import INLINE\\n\"+\n",
       "       \"output_notebook(resources=INLINE)\\n\"+\n",
       "       \"</code>\\n\"+\n",
       "       \"</div>\"}};\n",
       "  \n",
       "    function display_loaded() {\n",
       "      if (window.Bokeh !== undefined) {\n",
       "        document.getElementById(\"61351bc0-b2ea-4801-b209-75fa83e5b450\").textContent = \"BokehJS successfully loaded.\";\n",
       "      } else if (Date.now() < window._bokeh_timeout) {\n",
       "        setTimeout(display_loaded, 100)\n",
       "      }\n",
       "    }\n",
       "  \n",
       "    function run_callbacks() {\n",
       "      window._bokeh_onload_callbacks.forEach(function(callback) { callback() });\n",
       "      delete window._bokeh_onload_callbacks\n",
       "      console.info(\"Bokeh: all callbacks have finished\");\n",
       "    }\n",
       "  \n",
       "    function load_libs(js_urls, callback) {\n",
       "      window._bokeh_onload_callbacks.push(callback);\n",
       "      if (window._bokeh_is_loading > 0) {\n",
       "        console.log(\"Bokeh: BokehJS is being loaded, scheduling callback at\", now());\n",
       "        return null;\n",
       "      }\n",
       "      if (js_urls == null || js_urls.length === 0) {\n",
       "        run_callbacks();\n",
       "        return null;\n",
       "      }\n",
       "      console.log(\"Bokeh: BokehJS not loaded, scheduling load and callback at\", now());\n",
       "      window._bokeh_is_loading = js_urls.length;\n",
       "      for (var i = 0; i < js_urls.length; i++) {\n",
       "        var url = js_urls[i];\n",
       "        var s = document.createElement('script');\n",
       "        s.src = url;\n",
       "        s.async = false;\n",
       "        s.onreadystatechange = s.onload = function() {\n",
       "          window._bokeh_is_loading--;\n",
       "          if (window._bokeh_is_loading === 0) {\n",
       "            console.log(\"Bokeh: all BokehJS libraries loaded\");\n",
       "            run_callbacks()\n",
       "          }\n",
       "        };\n",
       "        s.onerror = function() {\n",
       "          console.warn(\"failed to load library \" + url);\n",
       "        };\n",
       "        console.log(\"Bokeh: injecting script tag for BokehJS library: \", url);\n",
       "        document.getElementsByTagName(\"head\")[0].appendChild(s);\n",
       "      }\n",
       "    };var element = document.getElementById(\"61351bc0-b2ea-4801-b209-75fa83e5b450\");\n",
       "    if (element == null) {\n",
       "      console.log(\"Bokeh: ERROR: autoload.js configured with elementid '61351bc0-b2ea-4801-b209-75fa83e5b450' but no matching script tag was found. \")\n",
       "      return false;\n",
       "    }\n",
       "  \n",
       "    var js_urls = [];\n",
       "  \n",
       "    var inline_js = [\n",
       "      function(Bokeh) {\n",
       "        (function() {\n",
       "          var fn = function() {\n",
       "            var docs_json = {\"7b3d133b-a196-4e3f-b127-63d0b3f6ca07\":{\"roots\":{\"references\":[{\"attributes\":{\"line_color\":{\"value\":\"#1f77b4\"},\"x\":{\"field\":\"x\"},\"y\":{\"field\":\"y\"}},\"id\":\"35222a44-8267-46da-939b-7e61f294f094\",\"type\":\"Line\"},{\"attributes\":{\"line_alpha\":{\"value\":0.1},\"line_color\":{\"value\":\"#1f77b4\"},\"x\":{\"field\":\"x\"},\"y\":{\"field\":\"y\"}},\"id\":\"801aef19-79de-453b-9dbf-a3bdfa261d1c\",\"type\":\"Line\"},{\"attributes\":{},\"id\":\"e9375142-07a6-4563-928d-ee3c06755b93\",\"type\":\"ToolEvents\"},{\"attributes\":{\"data_source\":{\"id\":\"f98359c1-7ee8-4612-b93f-efa81a2d4963\",\"type\":\"ColumnDataSource\"},\"glyph\":{\"id\":\"35222a44-8267-46da-939b-7e61f294f094\",\"type\":\"Line\"},\"hover_glyph\":null,\"nonselection_glyph\":{\"id\":\"801aef19-79de-453b-9dbf-a3bdfa261d1c\",\"type\":\"Line\"},\"selection_glyph\":null},\"id\":\"2b7f5476-67f8-422b-89c5-cd1d2c0c8653\",\"type\":\"GlyphRenderer\"},{\"attributes\":{\"plot\":{\"id\":\"5659d1da-b22b-431f-a2bb-f64ca759e21c\",\"subtype\":\"Figure\",\"type\":\"Plot\"}},\"id\":\"9d91b6cf-c6a0-4a9e-9800-72ebab7b9fdb\",\"type\":\"WheelZoomTool\"},{\"attributes\":{},\"id\":\"ad1563a9-af66-45e0-91be-fbd5aa67232d\",\"type\":\"BasicTickFormatter\"},{\"attributes\":{\"below\":[{\"id\":\"f1c34e27-64e7-41f2-ba1d-06c43f013f5f\",\"type\":\"LinearAxis\"}],\"left\":[{\"id\":\"d9a7aa49-071f-4429-84b3-39748a11243b\",\"type\":\"LinearAxis\"}],\"renderers\":[{\"id\":\"f1c34e27-64e7-41f2-ba1d-06c43f013f5f\",\"type\":\"LinearAxis\"},{\"id\":\"69a2345d-f5c5-4d8e-96ad-a67cee660aa5\",\"type\":\"Grid\"},{\"id\":\"d9a7aa49-071f-4429-84b3-39748a11243b\",\"type\":\"LinearAxis\"},{\"id\":\"c093d088-0ecb-4f16-8cb0-22acf30e138b\",\"type\":\"Grid\"},{\"id\":\"f663e04d-c189-4e0a-8e77-b24506ef7968\",\"type\":\"BoxAnnotation\"},{\"id\":\"bbe6337e-9722-4f6c-bad2-d69e55868736\",\"type\":\"GlyphRenderer\"},{\"id\":\"2b7f5476-67f8-422b-89c5-cd1d2c0c8653\",\"type\":\"GlyphRenderer\"}],\"title\":{\"id\":\"0edea00f-15dd-4901-ae6b-fdc5a4aa56dd\",\"type\":\"Title\"},\"tool_events\":{\"id\":\"e9375142-07a6-4563-928d-ee3c06755b93\",\"type\":\"ToolEvents\"},\"toolbar\":{\"id\":\"b0ff9e1f-17c0-476b-ba8b-636603fbe3aa\",\"type\":\"Toolbar\"},\"x_range\":{\"id\":\"daa3f782-2ba5-43f8-884e-ab812bb5f618\",\"type\":\"DataRange1d\"},\"y_range\":{\"id\":\"7e77b109-0793-4a19-b8c0-f960b0ca16b3\",\"type\":\"DataRange1d\"}},\"id\":\"5659d1da-b22b-431f-a2bb-f64ca759e21c\",\"subtype\":\"Figure\",\"type\":\"Plot\"},{\"attributes\":{\"plot\":null,\"text\":\"Payload vs. Total Power (in W)\"},\"id\":\"0edea00f-15dd-4901-ae6b-fdc5a4aa56dd\",\"type\":\"Title\"},{\"attributes\":{\"callback\":null,\"column_names\":[\"x\",\"y\"],\"data\":{\"x\":[189,112,73,348,12],\"y\":[600,685,750,885,180]}},\"id\":\"1e9f56cf-650a-4dc1-8939-ff2470d72b74\",\"type\":\"ColumnDataSource\"},{\"attributes\":{\"overlay\":{\"id\":\"f663e04d-c189-4e0a-8e77-b24506ef7968\",\"type\":\"BoxAnnotation\"},\"plot\":{\"id\":\"5659d1da-b22b-431f-a2bb-f64ca759e21c\",\"subtype\":\"Figure\",\"type\":\"Plot\"}},\"id\":\"5d155489-f292-4dd2-b431-8ba31630d111\",\"type\":\"BoxZoomTool\"},{\"attributes\":{\"bottom_units\":\"screen\",\"fill_alpha\":{\"value\":0.5},\"fill_color\":{\"value\":\"lightgrey\"},\"left_units\":\"screen\",\"level\":\"overlay\",\"line_alpha\":{\"value\":1.0},\"line_color\":{\"value\":\"black\"},\"line_dash\":[4,4],\"line_width\":{\"value\":2},\"plot\":null,\"render_mode\":\"css\",\"right_units\":\"screen\",\"top_units\":\"screen\"},\"id\":\"f663e04d-c189-4e0a-8e77-b24506ef7968\",\"type\":\"BoxAnnotation\"},{\"attributes\":{\"plot\":{\"id\":\"5659d1da-b22b-431f-a2bb-f64ca759e21c\",\"subtype\":\"Figure\",\"type\":\"Plot\"}},\"id\":\"50f14c9a-6dae-49a6-903a-34f56ddb0432\",\"type\":\"HelpTool\"},{\"attributes\":{\"plot\":{\"id\":\"5659d1da-b22b-431f-a2bb-f64ca759e21c\",\"subtype\":\"Figure\",\"type\":\"Plot\"}},\"id\":\"b24fb8ba-2234-4e5d-be43-63c3d4fa50b2\",\"type\":\"SaveTool\"},{\"attributes\":{\"plot\":{\"id\":\"5659d1da-b22b-431f-a2bb-f64ca759e21c\",\"subtype\":\"Figure\",\"type\":\"Plot\"}},\"id\":\"65edf945-5133-45aa-8183-5ed5d232a900\",\"type\":\"ResetTool\"},{\"attributes\":{\"plot\":{\"id\":\"5659d1da-b22b-431f-a2bb-f64ca759e21c\",\"subtype\":\"Figure\",\"type\":\"Plot\"}},\"id\":\"f4601734-4a17-4bf5-9599-0f505297fcc7\",\"type\":\"PanTool\"},{\"attributes\":{},\"id\":\"00c8a6b9-bda2-469c-8fc3-4b5bc25c5f04\",\"type\":\"BasicTicker\"},{\"attributes\":{\"plot\":{\"id\":\"5659d1da-b22b-431f-a2bb-f64ca759e21c\",\"subtype\":\"Figure\",\"type\":\"Plot\"},\"ticker\":{\"id\":\"00c8a6b9-bda2-469c-8fc3-4b5bc25c5f04\",\"type\":\"BasicTicker\"}},\"id\":\"69a2345d-f5c5-4d8e-96ad-a67cee660aa5\",\"type\":\"Grid\"},{\"attributes\":{},\"id\":\"0242025a-9b76-40ac-9088-85acee44a279\",\"type\":\"BasicTickFormatter\"},{\"attributes\":{\"callback\":null},\"id\":\"7e77b109-0793-4a19-b8c0-f960b0ca16b3\",\"type\":\"DataRange1d\"},{\"attributes\":{},\"id\":\"4376b87a-6803-42bd-a7d1-a250a4908bfe\",\"type\":\"BasicTicker\"},{\"attributes\":{\"dimension\":1,\"plot\":{\"id\":\"5659d1da-b22b-431f-a2bb-f64ca759e21c\",\"subtype\":\"Figure\",\"type\":\"Plot\"},\"ticker\":{\"id\":\"4376b87a-6803-42bd-a7d1-a250a4908bfe\",\"type\":\"BasicTicker\"}},\"id\":\"c093d088-0ecb-4f16-8cb0-22acf30e138b\",\"type\":\"Grid\"},{\"attributes\":{\"formatter\":{\"id\":\"0242025a-9b76-40ac-9088-85acee44a279\",\"type\":\"BasicTickFormatter\"},\"plot\":{\"id\":\"5659d1da-b22b-431f-a2bb-f64ca759e21c\",\"subtype\":\"Figure\",\"type\":\"Plot\"},\"ticker\":{\"id\":\"4376b87a-6803-42bd-a7d1-a250a4908bfe\",\"type\":\"BasicTicker\"}},\"id\":\"d9a7aa49-071f-4429-84b3-39748a11243b\",\"type\":\"LinearAxis\"},{\"attributes\":{\"fill_alpha\":{\"value\":0.6},\"fill_color\":{\"value\":\"#3A5785\"},\"line_alpha\":{\"value\":0.6},\"line_color\":{\"value\":\"#3A5785\"},\"size\":{\"units\":\"screen\",\"value\":3},\"x\":{\"field\":\"x\"},\"y\":{\"field\":\"y\"}},\"id\":\"d352ea04-8b7a-406b-b179-792e5760252a\",\"type\":\"Circle\"},{\"attributes\":{\"formatter\":{\"id\":\"ad1563a9-af66-45e0-91be-fbd5aa67232d\",\"type\":\"BasicTickFormatter\"},\"plot\":{\"id\":\"5659d1da-b22b-431f-a2bb-f64ca759e21c\",\"subtype\":\"Figure\",\"type\":\"Plot\"},\"ticker\":{\"id\":\"00c8a6b9-bda2-469c-8fc3-4b5bc25c5f04\",\"type\":\"BasicTicker\"}},\"id\":\"f1c34e27-64e7-41f2-ba1d-06c43f013f5f\",\"type\":\"LinearAxis\"},{\"attributes\":{\"fill_alpha\":{\"value\":0.1},\"fill_color\":{\"value\":\"#1f77b4\"},\"line_alpha\":{\"value\":0.1},\"line_color\":{\"value\":\"#1f77b4\"},\"size\":{\"units\":\"screen\",\"value\":3},\"x\":{\"field\":\"x\"},\"y\":{\"field\":\"y\"}},\"id\":\"b1439cd5-5937-4984-8601-5cff0f9ceba2\",\"type\":\"Circle\"},{\"attributes\":{\"active_drag\":\"auto\",\"active_scroll\":\"auto\",\"active_tap\":\"auto\",\"tools\":[{\"id\":\"f4601734-4a17-4bf5-9599-0f505297fcc7\",\"type\":\"PanTool\"},{\"id\":\"9d91b6cf-c6a0-4a9e-9800-72ebab7b9fdb\",\"type\":\"WheelZoomTool\"},{\"id\":\"5d155489-f292-4dd2-b431-8ba31630d111\",\"type\":\"BoxZoomTool\"},{\"id\":\"b24fb8ba-2234-4e5d-be43-63c3d4fa50b2\",\"type\":\"SaveTool\"},{\"id\":\"65edf945-5133-45aa-8183-5ed5d232a900\",\"type\":\"ResetTool\"},{\"id\":\"50f14c9a-6dae-49a6-903a-34f56ddb0432\",\"type\":\"HelpTool\"}]},\"id\":\"b0ff9e1f-17c0-476b-ba8b-636603fbe3aa\",\"type\":\"Toolbar\"},{\"attributes\":{\"callback\":null},\"id\":\"daa3f782-2ba5-43f8-884e-ab812bb5f618\",\"type\":\"DataRange1d\"},{\"attributes\":{\"callback\":null,\"column_names\":[\"x\",\"y\"],\"data\":{\"x\":[189,112,73,348,12],\"y\":{\"__ndarray__\":\"iGRmrthWhUBCTTiYVMGBQBXM7qg64X9A3yZlEXW9jECjggmngDN6QA==\",\"dtype\":\"float64\",\"shape\":[5]}}},\"id\":\"f98359c1-7ee8-4612-b93f-efa81a2d4963\",\"type\":\"ColumnDataSource\"},{\"attributes\":{\"data_source\":{\"id\":\"1e9f56cf-650a-4dc1-8939-ff2470d72b74\",\"type\":\"ColumnDataSource\"},\"glyph\":{\"id\":\"d352ea04-8b7a-406b-b179-792e5760252a\",\"type\":\"Circle\"},\"hover_glyph\":null,\"nonselection_glyph\":{\"id\":\"b1439cd5-5937-4984-8601-5cff0f9ceba2\",\"type\":\"Circle\"},\"selection_glyph\":null},\"id\":\"bbe6337e-9722-4f6c-bad2-d69e55868736\",\"type\":\"GlyphRenderer\"}],\"root_ids\":[\"5659d1da-b22b-431f-a2bb-f64ca759e21c\"]},\"title\":\"Bokeh Application\",\"version\":\"0.12.4\"}};\n",
       "            var render_items = [{\"docid\":\"7b3d133b-a196-4e3f-b127-63d0b3f6ca07\",\"elementid\":\"61351bc0-b2ea-4801-b209-75fa83e5b450\",\"modelid\":\"5659d1da-b22b-431f-a2bb-f64ca759e21c\"}];\n",
       "            \n",
       "            Bokeh.embed.embed_items(docs_json, render_items);\n",
       "          };\n",
       "          if (document.readyState != \"loading\") fn();\n",
       "          else document.addEventListener(\"DOMContentLoaded\", fn);\n",
       "        })();\n",
       "      },\n",
       "      function(Bokeh) {\n",
       "      }\n",
       "    ];\n",
       "  \n",
       "    function run_inline_js() {\n",
       "      \n",
       "      if ((window.Bokeh !== undefined) || (force === true)) {\n",
       "        for (var i = 0; i < inline_js.length; i++) {\n",
       "          inline_js[i](window.Bokeh);\n",
       "        }if (force === true) {\n",
       "          display_loaded();\n",
       "        }} else if (Date.now() < window._bokeh_timeout) {\n",
       "        setTimeout(run_inline_js, 100);\n",
       "      } else if (!window._bokeh_failed_load) {\n",
       "        console.log(\"Bokeh: BokehJS failed to load within specified timeout.\");\n",
       "        window._bokeh_failed_load = true;\n",
       "      } else if (force !== true) {\n",
       "        var cell = $(document.getElementById(\"61351bc0-b2ea-4801-b209-75fa83e5b450\")).parents('.cell').data().cell;\n",
       "        cell.output_area.append_execute_result(NB_LOAD_WARNING)\n",
       "      }\n",
       "  \n",
       "    }\n",
       "  \n",
       "    if (window._bokeh_is_loading === 0) {\n",
       "      console.log(\"Bokeh: BokehJS loaded, going straight to plotting\");\n",
       "      run_inline_js();\n",
       "    } else {\n",
       "      load_libs(js_urls, function() {\n",
       "        console.log(\"Bokeh: BokehJS plotting callback run at\", now());\n",
       "        run_inline_js();\n",
       "      });\n",
       "    }\n",
       "  }(this));\n",
       "</script>"
      ]
     },
     "metadata": {},
     "output_type": "display_data"
    }
   ],
   "source": [
    "p = figure(plot_width=600, plot_height=600, title=\"Payload vs. Total Power (in W)\")\n",
    "p.scatter(payload_power, total_power, size=3, color=\"#3A5785\", alpha=0.6)\n",
    "p.line(payload_power, r)\n",
    "show(p)"
   ]
  },
  {
   "cell_type": "code",
   "execution_count": 8,
   "metadata": {
    "collapsed": false
   },
   "outputs": [
    {
     "name": "stdout",
     "output_type": "stream",
     "text": [
      "Linear Regression equation = 1.489x + 401.3\n"
     ]
    }
   ],
   "source": [
    "print(\"Linear Regression equation = {:.4}x + {:.4}\".format(ar, br))"
   ]
  },
  {
   "cell_type": "markdown",
   "metadata": {},
   "source": [
    "Using this linear regression we can estimate the total power based on the linear regression model. "
   ]
  },
  {
   "cell_type": "code",
   "execution_count": 13,
   "metadata": {
    "collapsed": true
   },
   "outputs": [],
   "source": [
    "def sc_total_power(pl_power):\n",
    "    return 1.489 * pl_power + 401.3"
   ]
  },
  {
   "cell_type": "markdown",
   "metadata": {},
   "source": [
    "Current estimates has the payload power at ~72.1 W Peak Power.  Given this, we can estimate the total power required:"
   ]
  },
  {
   "cell_type": "code",
   "execution_count": 15,
   "metadata": {
    "collapsed": false
   },
   "outputs": [
    {
     "data": {
      "text/plain": [
       "508.6569"
      ]
     },
     "execution_count": 15,
     "metadata": {},
     "output_type": "execute_result"
    }
   ],
   "source": [
    "t_power = sc_total_power(72.1)\n",
    "t_power"
   ]
  },
  {
   "cell_type": "markdown",
   "metadata": {},
   "source": [
    "## Power Design\n",
    "\n",
    "\n",
    "1. Power Requirements\n",
    "2. Solar Arrays\n",
    "3. Batteries\n",
    "4. Mass and Power Estimates for subsystems\n",
    "5. Power system block diagram"
   ]
  },
  {
   "cell_type": "markdown",
   "metadata": {},
   "source": [
    "### Power Requirements\n",
    "\n",
    "Given that the payload power is 72.1 W, the estimated total power is 508.6569 W.  From this, we allocate 436.55 W to the subsystem power.  "
   ]
  },
  {
   "cell_type": "code",
   "execution_count": null,
   "metadata": {
    "collapsed": true
   },
   "outputs": [],
   "source": []
  },
  {
   "cell_type": "markdown",
   "metadata": {},
   "source": [
    "### Power Estimates for subsystems\n",
    "\n",
    "Using the subsystem % estimates from the lectures, we get the following:\n",
    "\n",
    "<table>\n",
    "<tr><th>Subsystem</th> <th>% of Subsytem Total</th></tr>\n",
    "<tr><td>Thermal</td>   <td>28</td></tr>\n",
    "<tr><td>Attitude</td>  <td>20</td></tr>\n",
    "<tr><td>Power</td>     <td>10</td></tr>\n",
    "<tr><td>C and DH</td>  <td>17</td></tr>\n",
    "<tr><td>Comm</td>      <td>23</td></tr>\n",
    "<tr><td>Propulsion</td><td>1 </td></tr>\n",
    "<tr><td>Mech</td>      <td>1 </td></tr>\n",
    "</table>\n",
    "\n",
    "From the total power estimates, we can now estimate the power for each subsystem:"
   ]
  },
  {
   "cell_type": "code",
   "execution_count": 20,
   "metadata": {
    "collapsed": false
   },
   "outputs": [
    {
     "data": {
      "text/html": [
       "<div>\n",
       "<table border=\"1\" class=\"dataframe\">\n",
       "  <thead>\n",
       "    <tr style=\"text-align: right;\">\n",
       "      <th></th>\n",
       "      <th>Estimated Power (W)</th>\n",
       "    </tr>\n",
       "  </thead>\n",
       "  <tbody>\n",
       "    <tr>\n",
       "      <th>Thermal</th>\n",
       "      <td>122.235932</td>\n",
       "    </tr>\n",
       "    <tr>\n",
       "      <th>Attitude</th>\n",
       "      <td>87.311380</td>\n",
       "    </tr>\n",
       "    <tr>\n",
       "      <th>Power</th>\n",
       "      <td>43.655690</td>\n",
       "    </tr>\n",
       "    <tr>\n",
       "      <th>C&amp;DH</th>\n",
       "      <td>74.214673</td>\n",
       "    </tr>\n",
       "    <tr>\n",
       "      <th>Comm</th>\n",
       "      <td>100.408087</td>\n",
       "    </tr>\n",
       "    <tr>\n",
       "      <th>Propulsion</th>\n",
       "      <td>4.365569</td>\n",
       "    </tr>\n",
       "    <tr>\n",
       "      <th>Mech</th>\n",
       "      <td>4.365569</td>\n",
       "    </tr>\n",
       "  </tbody>\n",
       "</table>\n",
       "</div>"
      ],
      "text/plain": [
       "            Estimated Power (W)\n",
       "Thermal              122.235932\n",
       "Attitude              87.311380\n",
       "Power                 43.655690\n",
       "C&DH                  74.214673\n",
       "Comm                 100.408087\n",
       "Propulsion             4.365569\n",
       "Mech                   4.365569"
      ]
     },
     "execution_count": 20,
     "metadata": {},
     "output_type": "execute_result"
    }
   ],
   "source": [
    "subsystem_power = t_power - 72.1\n",
    "thermal_power = subsystem_power * 0.28\n",
    "attitude_power = subsystem_power * 0.20\n",
    "power_power = subsystem_power * 0.10\n",
    "cdh_power = subsystem_power * 0.17\n",
    "comm_power = subsystem_power * 0.23\n",
    "prop_power = subsystem_power * 0.01\n",
    "mech_power = subsystem_power * 0.01\n",
    "\n",
    "index = ['Thermal', 'Attitude', 'Power', 'C&DH', 'Comm', 'Propulsion', 'Mech']\n",
    "data = [thermal_power, attitude_power, power_power, cdh_power, comm_power, prop_power, mech_power]\n",
    "\n",
    "pd.DataFrame(data, index=index, columns=['Estimated Power (W)'])"
   ]
  },
  {
   "cell_type": "code",
   "execution_count": null,
   "metadata": {
    "collapsed": true
   },
   "outputs": [],
   "source": []
  }
 ],
 "metadata": {
  "kernelspec": {
   "display_name": "Python 3",
   "language": "python",
   "name": "python3"
  },
  "language_info": {
   "codemirror_mode": {
    "name": "ipython",
    "version": 3
   },
   "file_extension": ".py",
   "mimetype": "text/x-python",
   "name": "python",
   "nbconvert_exporter": "python",
   "pygments_lexer": "ipython3",
   "version": "3.6.0"
  }
 },
 "nbformat": 4,
 "nbformat_minor": 2
}
