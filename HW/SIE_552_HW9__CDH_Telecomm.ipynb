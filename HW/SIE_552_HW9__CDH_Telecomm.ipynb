{
 "cells": [
  {
   "cell_type": "code",
   "execution_count": 1,
   "metadata": {
    "collapsed": true
   },
   "outputs": [],
   "source": [
    "import numpy as np\n",
    "import pandas as pd"
   ]
  },
  {
   "cell_type": "markdown",
   "metadata": {},
   "source": [
    "## Command and Data Handling (CDH)\n",
    "\n",
    "1. Determine the max and min symbol rate for the science data with overhead and coding.  Assume maximum overhead.\n",
    "2. Determine the required solid state recorder capacity and rate capability if the downlink empties the recorder every 24 hours. Store data plus overhead; assume that coding is applied to the bit stream as data is read out of the recorder for transmission. Note that the storage system applies a code to the arriving data and removes it as data is read out. As explained during the lectures, this process is invisible to the user and should not be considered in this calculation/analysis\n",
    "3. What is the communication system downlink symbol rate requirement to empty the solid state storage once per day is the DSN time is limited to 12 hours/day? (Look at the SRD and you will notice that you are constrained to use DSN only 12 hrs/day). \n",
    "4. Estimate subsystem mass and power. As discussed in class, the lectures/book provides some estimates for hardware as function of the symbol data rate, Gb required etc. Some of those numbers are outdated as technology moves faster. You need to do some research to get some new number by analogy, i.e. look for most recent flown spacecraft and gather information about their CDH mass and power. Provide new figures for estimation. Update mass and power statement (in SE section). "
   ]
  },
  {
   "cell_type": "code",
   "execution_count": 6,
   "metadata": {},
   "outputs": [
    {
     "data": {
      "text/html": [
       "<div>\n",
       "<table border=\"1\" class=\"dataframe\">\n",
       "  <thead>\n",
       "    <tr style=\"text-align: right;\">\n",
       "      <th></th>\n",
       "      <th>Data_Rate_Max</th>\n",
       "      <th>Data_Rate_Min</th>\n",
       "    </tr>\n",
       "    <tr>\n",
       "      <th>Payload</th>\n",
       "      <th></th>\n",
       "      <th></th>\n",
       "    </tr>\n",
       "  </thead>\n",
       "  <tbody>\n",
       "    <tr>\n",
       "      <th>NAC</th>\n",
       "      <td>30000000.0</td>\n",
       "      <td>30000000.0</td>\n",
       "    </tr>\n",
       "    <tr>\n",
       "      <th>WAC</th>\n",
       "      <td>2500000.0</td>\n",
       "      <td>2500000.0</td>\n",
       "    </tr>\n",
       "    <tr>\n",
       "      <th>TEIS</th>\n",
       "      <td>1000000.0</td>\n",
       "      <td>600000.0</td>\n",
       "    </tr>\n",
       "    <tr>\n",
       "      <th>HEND</th>\n",
       "      <td>NaN</td>\n",
       "      <td>NaN</td>\n",
       "    </tr>\n",
       "    <tr>\n",
       "      <th>LA</th>\n",
       "      <td>618.0</td>\n",
       "      <td>618.0</td>\n",
       "    </tr>\n",
       "  </tbody>\n",
       "</table>\n",
       "</div>"
      ],
      "text/plain": [
       "         Data_Rate_Max  Data_Rate_Min\n",
       "Payload                              \n",
       "NAC         30000000.0     30000000.0\n",
       "WAC          2500000.0      2500000.0\n",
       "TEIS         1000000.0       600000.0\n",
       "HEND               NaN            NaN\n",
       "LA               618.0          618.0"
      ]
     },
     "execution_count": 6,
     "metadata": {},
     "output_type": "execute_result"
    }
   ],
   "source": [
    "plds = pd.read_csv(\"payloads.csv\", index_col=0)\n",
    "data_rates = plds[['Data_Rate_Max', 'Data_Rate_Min']]\n",
    "data_rates"
   ]
  },
  {
   "cell_type": "code",
   "execution_count": 10,
   "metadata": {},
   "outputs": [
    {
     "data": {
      "text/plain": [
       "Data_Rate_Max    618.0\n",
       "Data_Rate_Min    618.0\n",
       "dtype: float64"
      ]
     },
     "execution_count": 10,
     "metadata": {},
     "output_type": "execute_result"
    }
   ],
   "source": [
    "data_rates.min()"
   ]
  },
  {
   "cell_type": "code",
   "execution_count": 11,
   "metadata": {},
   "outputs": [
    {
     "data": {
      "text/plain": [
       "Data_Rate_Max    30000000.0\n",
       "Data_Rate_Min    30000000.0\n",
       "dtype: float64"
      ]
     },
     "execution_count": 11,
     "metadata": {},
     "output_type": "execute_result"
    }
   ],
   "source": [
    "data_rates.max()"
   ]
  },
  {
   "cell_type": "markdown",
   "metadata": {},
   "source": [
    "## Max Rate"
   ]
  },
  {
   "cell_type": "code",
   "execution_count": 16,
   "metadata": {},
   "outputs": [
    {
     "data": {
      "text/plain": [
       "33333333.333333332"
      ]
     },
     "execution_count": 16,
     "metadata": {},
     "output_type": "execute_result"
    }
   ],
   "source": [
    "max_rate_overhead = data_rates.max()[0] / 0.9\n",
    "max_rate_overhead"
   ]
  },
  {
   "cell_type": "code",
   "execution_count": 19,
   "metadata": {},
   "outputs": [
    {
     "data": {
      "text/plain": [
       "686.66666666666663"
      ]
     },
     "execution_count": 19,
     "metadata": {},
     "output_type": "execute_result"
    }
   ],
   "source": [
    "min_rate_overhead = data_rates.min()[1] / 0.9\n",
    "min_rate_overhead"
   ]
  },
  {
   "cell_type": "code",
   "execution_count": 17,
   "metadata": {},
   "outputs": [
    {
     "data": {
      "text/plain": [
       "38116591.928251117"
      ]
     },
     "execution_count": 17,
     "metadata": {},
     "output_type": "execute_result"
    }
   ],
   "source": [
    "max_rate = max_rate_overhead * 255/223  # includes the Reed Solomon encoding (255,223)\n",
    "max_rate"
   ]
  },
  {
   "cell_type": "markdown",
   "metadata": {},
   "source": [
    "## Solid State Recorder"
   ]
  },
  {
   "cell_type": "markdown",
   "metadata": {},
   "source": [
    "From the SRD, we are required to store at a minimum 22 hours at minimum rate, and 2 hours at maximum rate"
   ]
  },
  {
   "cell_type": "code",
   "execution_count": 21,
   "metadata": {},
   "outputs": [
    {
     "data": {
      "text/plain": [
       "240054384000.0"
      ]
     },
     "execution_count": 21,
     "metadata": {},
     "output_type": "execute_result"
    }
   ],
   "source": [
    "max_record = max_rate_overhead * 60 * 60 * 2  # 60 sec * 60 mins * 2 hours\n",
    "min_record = min_rate_overhead * 60 * 60 * 22  # 60 sec * 60 mins * 22 hours\n",
    "total_record = max_record + min_record\n",
    "total_record"
   ]
  },
  {
   "cell_type": "markdown",
   "metadata": {},
   "source": [
    "## Downlink"
   ]
  },
  {
   "cell_type": "markdown",
   "metadata": {},
   "source": [
    "we have 12 hours per day to dump the 24005438400.0 bits of data.  "
   ]
  },
  {
   "cell_type": "code",
   "execution_count": 22,
   "metadata": {},
   "outputs": [
    {
     "data": {
      "text/plain": [
       "5556814.444444444"
      ]
     },
     "execution_count": 22,
     "metadata": {},
     "output_type": "execute_result"
    }
   ],
   "source": [
    "downlink_rate = total_record / (12 * 60 * 60)\n",
    "downlink_rate"
   ]
  },
  {
   "cell_type": "markdown",
   "metadata": {},
   "source": [
    "## Mass/Power"
   ]
  },
  {
   "cell_type": "code",
   "execution_count": 25,
   "metadata": {},
   "outputs": [
    {
     "data": {
      "text/plain": [
       "6.0013595999999998"
      ]
     },
     "execution_count": 25,
     "metadata": {},
     "output_type": "execute_result"
    }
   ],
   "source": [
    "est_weight = 0.25 * total_record / 10e9 # in kg\n",
    "est_weight"
   ]
  },
  {
   "cell_type": "code",
   "execution_count": 27,
   "metadata": {},
   "outputs": [
    {
     "data": {
      "text/plain": [
       "24.005438399999999"
      ]
     },
     "execution_count": 27,
     "metadata": {},
     "output_type": "execute_result"
    }
   ],
   "source": [
    "est_power = 1 * total_record / 10e9 # in W\n",
    "est_power"
   ]
  },
  {
   "cell_type": "markdown",
   "metadata": {},
   "source": [
    "# Telecommunications"
   ]
  },
  {
   "cell_type": "code",
   "execution_count": null,
   "metadata": {
    "collapsed": true
   },
   "outputs": [],
   "source": []
  }
 ],
 "metadata": {
  "kernelspec": {
   "display_name": "Python 3",
   "language": "python",
   "name": "python3"
  },
  "language_info": {
   "codemirror_mode": {
    "name": "ipython",
    "version": 3
   },
   "file_extension": ".py",
   "mimetype": "text/x-python",
   "name": "python",
   "nbconvert_exporter": "python",
   "pygments_lexer": "ipython3",
   "version": "3.6.0"
  }
 },
 "nbformat": 4,
 "nbformat_minor": 2
}
