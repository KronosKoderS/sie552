{
 "cells": [
  {
   "cell_type": "markdown",
   "metadata": {},
   "source": [
    "The  Spacecraft  System  Engineering  (SE)  section  of  the  report  is  expected  to  summarize  the  \n",
    "overall design. The key elements here are, mass and power budget (eventually summarized in a Mass Equipment List\n",
    "-MEL), functional block diagram and concept of operations. The following sections are expected to be included in the SE portion of the report:\n",
    "\n",
    "1. Executive Summary\n",
    "2. Design Assumptions\n",
    "3. Mass and Power Statement\n",
    "    * MEL with margin and contingency \n",
    "    * Show  historical  evolution:  What  were  the  initial  mass  and  power  statement  and breakdown of the subsystems vs. what was the final solution for your design. \n",
    "4. Choice of LV discussion.  Adapter mass.\n",
    "5. Functional Block diagram\n",
    "6. Detailed Concept of Operations\n"
   ]
  },
  {
   "cell_type": "markdown",
   "metadata": {},
   "source": [
    "# Executive Summary"
   ]
  },
  {
   "cell_type": "markdown",
   "metadata": {},
   "source": [
    "# System Overview\n",
    "\n",
    "TODO\n",
    "\n",
    "* Add a block diagram\n",
    "* Choice of LV discussion.  Adapter Mass."
   ]
  },
  {
   "cell_type": "markdown",
   "metadata": {},
   "source": [
    "## Design Assumptions"
   ]
  },
  {
   "cell_type": "markdown",
   "metadata": {},
   "source": [
    "## Mass and Power\n",
    "\n",
    "* Mass Equipment List (MEL) w/ margin and contingency\n",
    "* Show historical Evolution"
   ]
  },
  {
   "cell_type": "markdown",
   "metadata": {},
   "source": [
    "## Concept of Operations (CONOPS)"
   ]
  }
 ],
 "metadata": {
  "kernelspec": {
   "display_name": "Python 3",
   "language": "python",
   "name": "python3"
  },
  "language_info": {
   "codemirror_mode": {
    "name": "ipython",
    "version": 3
   },
   "file_extension": ".py",
   "mimetype": "text/x-python",
   "name": "python",
   "nbconvert_exporter": "python",
   "pygments_lexer": "ipython3",
   "version": "3.6.0"
  }
 },
 "nbformat": 4,
 "nbformat_minor": 2
}
