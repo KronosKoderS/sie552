{
 "cells": [
  {
   "cell_type": "markdown",
   "metadata": {},
   "source": [
    "The mission analysis and design shall show the elements of trajectory design. The key element of this section is to provide a detailed summary of the delta-v required to accomplish the missions. The delta-v required for attitude maneuvers shall be reported as a single delta-v and then you can refer to the ACS/Propulsion sections for detailed calculation of how the delta-v was derived. The following sections are expected to be included in the report.\n",
    "1. Mission design requirements and design assumptions\n",
    "2. Transfer ellipse design\n",
    "    * Include the design process\n",
    "3. Departure trajectory design\n",
    "    * Include the design process, state C3 and discuss the choice of LV\n",
    "4. Arrival trajectory design\n",
    "    * Describe your design process. Show the calculations for the final maneuvers. \n",
    "5. Provide  a  table  with  the  overall  delta-v  breakdown  and  relative  expected  mass  of  propellant (include reserves and uncertainties)\n",
    "\n",
    "NOTE: the overall goal is to reduce the total amount of delta-V from 2.8 km/sec initial estimate (see SRD) to something in the range 1.4-1.6 km/sec (everything included). A simplified mission analysis  approach  has  been  reported  in  class.  You  can  also  provide  trajectory  design  from  previous missions (e.g. MGS, pathfinder, MRO). In this case,  you need to do a thorough research job to identify ALL delta-v required by the mission design. You need to also find graphs/plots of the  trajectory  and  report  a  summary  of  what  has  been  used  and  explain  how  the  former  design  fits your design. You can also implement a hybrid approach where you take portion of historical trajectories and design only some parts of the overall mission profile. \n"
   ]
  },
  {
   "cell_type": "markdown",
   "metadata": {},
   "source": [
    "# Requirements and Assumptions"
   ]
  },
  {
   "cell_type": "markdown",
   "metadata": {},
   "source": [
    "# Mission Trajectory Design"
   ]
  },
  {
   "cell_type": "markdown",
   "metadata": {},
   "source": [
    "## Transfer Ellipse"
   ]
  },
  {
   "cell_type": "markdown",
   "metadata": {},
   "source": [
    "## Departure Trajectory"
   ]
  },
  {
   "cell_type": "markdown",
   "metadata": {},
   "source": [
    "## Arrival Trajectory"
   ]
  },
  {
   "cell_type": "markdown",
   "metadata": {},
   "source": [
    "## Overall Delta-V"
   ]
  },
  {
   "cell_type": "code",
   "execution_count": null,
   "metadata": {
    "collapsed": true
   },
   "outputs": [],
   "source": []
  }
 ],
 "metadata": {
  "kernelspec": {
   "display_name": "Python 3",
   "language": "python",
   "name": "python3"
  },
  "language_info": {
   "codemirror_mode": {
    "name": "ipython",
    "version": 3
   },
   "file_extension": ".py",
   "mimetype": "text/x-python",
   "name": "python",
   "nbconvert_exporter": "python",
   "pygments_lexer": "ipython3",
   "version": "3.6.0"
  }
 },
 "nbformat": 4,
 "nbformat_minor": 2
}
