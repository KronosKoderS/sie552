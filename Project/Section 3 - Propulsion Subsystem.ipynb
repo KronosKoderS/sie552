{
 "cells": [
  {
   "cell_type": "markdown",
   "metadata": {},
   "source": [
    "The spacecraft propulsion subsystem section shall report on the process that culminates with the selection  of  the  propulsion  option  that  satisfies  the  propulsion  requirements.  You  need  to  define/select the set of thrusters and provide sizing for that, perform trade studies mono-prop vs bi-prop  vs.  dual  mode  and provide  a  final  mass  and  power  statement  for  the  subsystem  (MEL  with uncertainties). The following sections shall be included in the propulsion subsystem portion of the report:\n",
    "1. Propulsion requirements and design assumption \n",
    "2. Thrusters selection and sizing\n",
    "     * Assignment  #3  provided  a  guideline  for  the  type  of  thrusters  that  must  be  used  (low, medium and high thrust)\n",
    "     * State  mass  by  computing  specific  impulse  and  mass  of  each  single  thruster  (see  assignment #3). Compare with off-the-shelf options. \n",
    "3. Propulsion system trade studies\n",
    "    * Summarize the propulsion requirements in a table\n",
    "        * Summarize translational maneuver propellant (from mission analysis)\n",
    "        * Summarize attitude maneuver propellant (from ACS subsystem)\n",
    "    * Size a mono propellant system. Show the analysis\n",
    "    * Size a bi-propellant system. Show the analysis\n",
    "    * Size a dual mode system. Show the analysis.\n",
    "    * Discuss your selection.\n",
    "4. Propulsion system architecture and functional block diagram\n",
    "    * Summarize your selection\n",
    "5. Mass and power statement\n",
    "    * Summarize power and equipment/hardware that is required for your subsystem\n",
    "    * Report  a  propulsion  subsystem  MEL  with  uncertainties.  Discuss  if  you  use  calculated or off-the-shelf components with heritage from other missions.\n"
   ]
  },
  {
   "cell_type": "code",
   "execution_count": null,
   "metadata": {
    "collapsed": true
   },
   "outputs": [],
   "source": []
  }
 ],
 "metadata": {
  "kernelspec": {
   "display_name": "Python 3",
   "language": "python",
   "name": "python3"
  },
  "language_info": {
   "codemirror_mode": {
    "name": "ipython",
    "version": 3
   },
   "file_extension": ".py",
   "mimetype": "text/x-python",
   "name": "python",
   "nbconvert_exporter": "python",
   "pygments_lexer": "ipython3",
   "version": "3.6.0"
  }
 },
 "nbformat": 4,
 "nbformat_minor": 2
}
