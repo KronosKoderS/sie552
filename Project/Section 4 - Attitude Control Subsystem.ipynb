{
 "cells": [
  {
   "cell_type": "markdown",
   "metadata": {},
   "source": [
    "The  spacecraft  ACS  subsystem  section  shall  report  on  the  design  process  that  culminates  with  selecting  proper  actuators  and  sensors  required  to  control  the  attitude  during  every  mission  phase. The following sections shall be included in the ACS subsystem portion of the report:\n",
    "\n",
    "1. Define the ACS system requirements and design assumption\n",
    "    * Define the mission attitude control modes\n",
    "2. ACS selection process and trades\n",
    "    * Thrusters analysis\n",
    "    * RW analysis\n",
    "    * Select configuration for three-axis stabilization\n",
    "3. Environmental torque analysis and disturbance torques\n",
    "    * Show that your ACS (RW) system is robust against environmental torques\n",
    "    * Show   that   your   thrusters   are   able   to   counteract   the   thrust   misalignment   disturbances during the MOI\n",
    "4. Attitude maneuvers required propellant\n",
    "    * Evaluate the propellant for the all possible attitude maneuvers. Show the numbers of slew that you need and show the analysis to compute the propellant\n",
    "    * Evaluate propellant for RW desaturation \n",
    "5. ACS mass and power statement\n",
    "    * Hardware selection statement (calculated and off the shelf)\n",
    "    * MEL for the ACS subsystem\n",
    "6. Functional block diagram\n"
   ]
  },
  {
   "cell_type": "code",
   "execution_count": null,
   "metadata": {
    "collapsed": true
   },
   "outputs": [],
   "source": []
  }
 ],
 "metadata": {
  "kernelspec": {
   "display_name": "Python 3",
   "language": "python",
   "name": "python3"
  },
  "language_info": {
   "codemirror_mode": {
    "name": "ipython",
    "version": 3
   },
   "file_extension": ".py",
   "mimetype": "text/x-python",
   "name": "python",
   "nbconvert_exporter": "python",
   "pygments_lexer": "ipython3",
   "version": "3.6.0"
  }
 },
 "nbformat": 4,
 "nbformat_minor": 2
}
