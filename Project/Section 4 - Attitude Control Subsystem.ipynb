{
 "cells": [
  {
   "cell_type": "markdown",
   "metadata": {},
   "source": [
    "# REMOVE!\n",
    "The  spacecraft  ACS  subsystem  section  shall  report  on  the  design  process  that  culminates  with  selecting  proper  actuators  and  sensors  required  to  control  the  attitude  during  every  mission  phase. The following sections shall be included in the ACS subsystem portion of the report:\n",
    "\n",
    "1. Define the ACS system requirements and design assumption\n",
    "    * Define the mission attitude control modes\n",
    "2. ACS selection process and trades\n",
    "    * Thrusters analysis\n",
    "    * RW analysis\n",
    "    * Select configuration for three-axis stabilization\n",
    "3. Environmental torque analysis and disturbance torques\n",
    "    * Show that your ACS (RW) system is robust against environmental torques\n",
    "    * Show   that   your   thrusters   are   able   to   counteract   the   thrust   misalignment   disturbances during the MOI\n",
    "4. Attitude maneuvers required propellant\n",
    "    * Evaluate the propellant for the all possible attitude maneuvers. Show the numbers of slew that you need and show the analysis to compute the propellant\n",
    "    * Evaluate propellant for RW desaturation \n",
    "5. ACS mass and power statement\n",
    "    * Hardware selection statement (calculated and off the shelf)\n",
    "    * MEL for the ACS subsystem\n",
    "6. Functional block diagram\n",
    "# REMOVE!"
   ]
  },
  {
   "cell_type": "code",
   "execution_count": 1,
   "metadata": {
    "collapsed": true
   },
   "outputs": [],
   "source": [
    "import scd"
   ]
  },
  {
   "cell_type": "markdown",
   "metadata": {},
   "source": [
    "# Requirements and Design Assumptions\n",
    "The Spacecrafts Attitude Control System (ACS) was initially designed from requirements within Systems Requirement Document.\n",
    "\n",
    "* The Spacecraft shall be nadir pointed. \n",
    "* The ACS shall provide the pointing accuracy required by the science instruments.\n",
    "* The Spacecraft shall be capable of performing a 180 rotational manuever within 30 seconds about any axis.\n",
    "* The solar arrays shall be pointed within a 5 degree maximum degree array pointing error. \n",
    "\n",
    "Additional derived requirements were captured during the design of the Mission Attitude Control modes.  "
   ]
  },
  {
   "cell_type": "markdown",
   "metadata": {
    "collapsed": true
   },
   "source": [
    "## Mission Attitude Control modes\n",
    "\n",
    "This mission requires three main modes while orbiting Mars; Science, Data Transfer and Power Saving. \n",
    "\n",
    "1. **Science Mode** - Main mode of the system where scientific modules are used.\n",
    "    * Requires Nadir pointing\n",
    "    * All instruments are powered\n",
    "    \n",
    "2. **Data Transfer Mode** - Mode used to transfer data to/from Earth\n",
    "    * Power removed from all modules *except* Comms\n",
    "    * Used for large data xfers while still conserving power\n",
    "    \n",
    "3. **Power Saving Mode** - Spacecraft is charging from the Sun's Rays\n",
    "    * Solar Arrays are pointed within a 5 degree maximum pointing error\n",
    "    * Systems are powered off to optimize charging rates/times"
   ]
  },
  {
   "cell_type": "markdown",
   "metadata": {},
   "source": [
    "## ACS Selection\n",
    "After analyzing the requirements levied against the spacecraft, it is determined that the three axis ACS system is required.  "
   ]
  },
  {
   "cell_type": "markdown",
   "metadata": {},
   "source": [
    "# ACS Analysis\n",
    "In order to ensure that the three axis ACS was sufficient for the spacecraft, a further analysis of the torques due to environmental and other disturbances.  There are three major disturbances taken into consideration for this analysis:\n",
    "\n",
    "1. Solar\n",
    "2. Magnetic\n",
    "3. Gravitational Gradients"
   ]
  },
  {
   "cell_type": "markdown",
   "metadata": {},
   "source": [
    "## Solar \n",
    "\n",
    "When calculating the solar torques experienced, the following formula is used:\n",
    "\n",
    "$$T = PAL(1 + q)$$\n",
    "\n",
    "Where,\n",
    "\n",
    "P: Solar Pressure of the orbiting planet (in $\\frac{W}{m^2}$)\n",
    "\n",
    "A: Area of the spacecraft side (in $m^2$)\n",
    "\n",
    "L: Distance from the centroid of the surface A (in $m$)\n",
    "\n",
    "q: Reflectance factor between 0 and 1\n",
    "\n",
    "Using this euqation, a few things are requiered to know:\n",
    "\n",
    "<table width=\"650\"><caption>Table 4.1: Solar Pressure Torque Variables</caption>\n",
    "<tr><th>Variable</th><th>Description</th><th>Value</th></tr>\n",
    "<tr><td>q</td><td>Reflectance Factor</td><td>$0.6$</td></tr>\n",
    "<tr><td>P_mars</td><td>Solar Pressure at Mars<td>$2.0 \\times 10^{-6}$</td></tr>\n",
    "<tr><td>A_left</td><td>Area of Spacecraft left side</td><td>$7.6$ $cm^2$</td></tr>\n",
    "<tr><td>L_left</td><td>Dist to centroid of Spacecraft left side</td><td>$131.2$ $cm$</td></tr>\n",
    "<tr><td>A_right</td><td>Area of Spacecraft right side</td><td>$6.3$ $cm^2$</td></tr>\n",
    "<tr><td>L_right</td><td>Dist to centroid of Spacecraft right side</td><td>$126.1$ $cm$</td></tr>\n",
    "</table>"
   ]
  },
  {
   "cell_type": "code",
   "execution_count": 2,
   "metadata": {
    "collapsed": true
   },
   "outputs": [],
   "source": [
    "q       = 0.6\n",
    "P_mars  = 2.0 * 10 ** -6\n",
    "A_left  = 7.6               # cm^2\n",
    "L_left  = 131.2             # cm\n",
    "A_right = 6.3               # cm^2\n",
    "L_right = 126.1             # cm"
   ]
  },
  {
   "cell_type": "markdown",
   "metadata": {},
   "source": [
    "The torques for each side of the spacecraft were calculated.  These torques were then summed to get a total solar torque of the spacecraft.  "
   ]
  },
  {
   "cell_type": "code",
   "execution_count": 3,
   "metadata": {},
   "outputs": [
    {
     "name": "stdout",
     "output_type": "stream",
     "text": [
      "Total Torque = 5.73296e-07 N/m^s\n"
     ]
    }
   ],
   "source": [
    "T_right = scd.solar_torque(P_mars, A_right / 100, L_right / 100, q)\n",
    "T_left = scd.solar_torque(P_mars, A_left / 100, L_left / 100, q)\n",
    "print(\"Total Torque = {} N/m^s\".format(T_right + T_left))"
   ]
  },
  {
   "cell_type": "markdown",
   "metadata": {},
   "source": [
    "## Magnetic \n",
    "\n",
    "To find the Magnetic torque experienced by the spacecraft, the following equation was used:\n",
    "\n",
    "$$T = MB \\sin{\\theta}$$\n",
    "\n",
    "where,\n",
    "\n",
    "M: Magnetic moment of the planetary object (in emu)\n",
    "\n",
    "B: Planetary object's magnetic field (in gauss) and can be found using,\n",
    "\n",
    "$$B = \\frac{B_0 r^3_0}{r^3}(3 \\sin^2 L + 1)^{1/2} $$\n",
    "\n",
    "with, \n",
    "\n",
    "r: Spacecraft orbital radius (in cm)\n",
    "\n",
    "D: Residual dipole of the spacecraft (in pole-cm)"
   ]
  },
  {
   "cell_type": "code",
   "execution_count": null,
   "metadata": {
    "collapsed": true
   },
   "outputs": [],
   "source": []
  }
 ],
 "metadata": {
  "kernelspec": {
   "display_name": "Python 3",
   "language": "python",
   "name": "python3"
  },
  "language_info": {
   "codemirror_mode": {
    "name": "ipython",
    "version": 3
   },
   "file_extension": ".py",
   "mimetype": "text/x-python",
   "name": "python",
   "nbconvert_exporter": "python",
   "pygments_lexer": "ipython3",
   "version": "3.6.0"
  }
 },
 "nbformat": 4,
 "nbformat_minor": 2
}
