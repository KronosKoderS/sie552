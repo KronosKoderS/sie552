{
 "cells": [
  {
   "cell_type": "markdown",
   "metadata": {},
   "source": [
    "The  structure  and  mechanism  subsystems  section  reports  on  the  general  configuration  of  your  spacecraft and identify the mass for the spacecraft. The following sections shall be included on this portion of report:\n",
    "\n",
    "1. Structure and mechanism requirements and design assumptions\n",
    "    * Summarize the load environment for the chosen LV\n",
    "    * Summarize the rigidity requirements and the envelop/fairing requirements\n",
    "2. General configuration and arrangement\n",
    "    * Draw a three-view of the spacecraft in both stowed and deployed configuration \n",
    "    * The drawings must show how the subsystems are arranged in a coherent fashion \n",
    "    * Justify  and  discuss  your  arrangement.  Show  that  your  spacecraft  configuration  does  not  violate  LV  fairing  constraints  and  it  satisfies  the  general  arrangement  principles discussed during the lectures.\n",
    "    * NOTE:  You  are  not  required  to  provide  a  CAD  model,  but  the  drawing  must  be  clean (8 ½ x 11 inch sketches to scale) and must not be ambiguous. \n",
    "3. Primary structure sizing\n",
    "    * Provide a first order analysis for the primary spacecraft structure (see assignment #5). Compute bus thickness and overall mass. \n",
    "    * Show the percentage of the mass vs. overall spacecraft dry mass\n",
    "    * If you are not happy, you can estimate the mass of the spacecraft by analogy using historical data.\n",
    "4. Summarize the mass of the primary structure. Discuss the mechanisms you are using (e.g. solar panels and antenna, if any)\n"
   ]
  },
  {
   "cell_type": "code",
   "execution_count": null,
   "metadata": {
    "collapsed": true
   },
   "outputs": [],
   "source": []
  }
 ],
 "metadata": {
  "kernelspec": {
   "display_name": "Python 3",
   "language": "python",
   "name": "python3"
  },
  "language_info": {
   "codemirror_mode": {
    "name": "ipython",
    "version": 3
   },
   "file_extension": ".py",
   "mimetype": "text/x-python",
   "name": "python",
   "nbconvert_exporter": "python",
   "pygments_lexer": "ipython3",
   "version": "3.6.0"
  }
 },
 "nbformat": 4,
 "nbformat_minor": 2
}
