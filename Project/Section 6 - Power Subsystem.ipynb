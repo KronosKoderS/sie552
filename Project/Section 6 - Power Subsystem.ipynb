{
 "cells": [
  {
   "cell_type": "markdown",
   "metadata": {},
   "source": [
    "The power subsystem section of the report shall provide a clear analysis of the spacecraft power needs and how the system is designed to satisfy the stated requirement. Sizing process for solar panels  and  batteries  shall  be  clearly  outlined.  Statement  of  mass  and  power  must  be  reported.  The following sections shall be included in the power subsystem portion of the report:\n",
    "\n",
    "1. Spacecraft Power requirements and design assumptions\n",
    "    * Illustrate the power mission modes\n",
    "    * Identify the power consumption from payload\n",
    "    * Identify power consumption for each subsystem\n",
    "    * Prepare  a  table  that  show  power  consumption  of  each  subsystem  per  mission  mode (cruise, MOI, science)\n",
    "    * Show requirements for solar array and batteries\n",
    "2. Solar array design\n",
    "    * Illustrate the overall design process and design assumptions\n",
    "3. Batteries design\n",
    "    * Illustrate overall design process including batteries trades. SRD declares that you should use NiH2 batteries, but trades can be conducted to reduce mass.\n",
    "4. Power system mass and power statement\n",
    "    * State  the  hardware  you  select  and  estimate  the  mass  using  figures  of  merits  and  historical data. Show the MEL power subsystem with uncertainties. \n",
    "5. Functional block diagram. \n"
   ]
  },
  {
   "cell_type": "code",
   "execution_count": null,
   "metadata": {
    "collapsed": true
   },
   "outputs": [],
   "source": []
  }
 ],
 "metadata": {
  "kernelspec": {
   "display_name": "Python 3",
   "language": "python",
   "name": "python3"
  },
  "language_info": {
   "codemirror_mode": {
    "name": "ipython",
    "version": 3
   },
   "file_extension": ".py",
   "mimetype": "text/x-python",
   "name": "python",
   "nbconvert_exporter": "python",
   "pygments_lexer": "ipython3",
   "version": "3.6.0"
  }
 },
 "nbformat": 4,
 "nbformat_minor": 2
}
