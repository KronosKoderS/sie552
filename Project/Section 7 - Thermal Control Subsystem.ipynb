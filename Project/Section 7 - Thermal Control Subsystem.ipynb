{
 "cells": [
  {
   "cell_type": "markdown",
   "metadata": {},
   "source": [
    "The thermal control subsystem shall provide a preliminary analysis of the thermal performances of the spacecraft. You need to illustrate the first order thermal system analysis, select appropriate hardware and defined the mass and power required by the system. The following sections shall be included in the thermal control subsystem portion of the report:\n",
    "\n",
    "1. Thermal control requirements and design assumptions\n",
    "    * Identify temperature margins for the S/C equipments/components\n",
    "    * Define power dissipation from electronics\n",
    "2. Thermal control performance analysis (see assignment #8)\n",
    "    * Illustrate the process and report your analysis. Identify worst case-cold and worst case  hot.  Size  radiator  and  identify  thermal  performance  of  the  solar  panels.  Identify special thermal problems.  \n",
    "3. Thermal control mass and power statement\n",
    "    * Estimate overall mass and power\n",
    "    * Select proper equipment. Prepare a Thermal control MEL with uncertainties.\n",
    "4. Functional block diagram for thermal control\n"
   ]
  },
  {
   "cell_type": "code",
   "execution_count": null,
   "metadata": {
    "collapsed": true
   },
   "outputs": [],
   "source": []
  }
 ],
 "metadata": {
  "kernelspec": {
   "display_name": "Python 3",
   "language": "python",
   "name": "python3"
  },
  "language_info": {
   "codemirror_mode": {
    "name": "ipython",
    "version": 3
   },
   "file_extension": ".py",
   "mimetype": "text/x-python",
   "name": "python",
   "nbconvert_exporter": "python",
   "pygments_lexer": "ipython3",
   "version": "3.6.0"
  }
 },
 "nbformat": 4,
 "nbformat_minor": 2
}
