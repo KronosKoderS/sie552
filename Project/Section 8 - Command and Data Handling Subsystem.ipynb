{
 "cells": [
  {
   "cell_type": "markdown",
   "metadata": {},
   "source": [
    "The spacecraft CDH section shall summarize your design effort in providing a suitable solution for  the  computational  needs  and  data  stream  of  your  spacecraft.  You  are  required  to  select  a  proper microprocessor,  a  solid  state  recorder  and  other  components  making  the  CHD  system.  The following sections shall be included in the CDH subsystem portion of the report:\n",
    "\n",
    "1. CDH requirements and design assumptions\n",
    "    * Determine maximum and minimum symbol rate for science and engineering data\n",
    "    * Determine solid state recorder capacity and rate capability requirements.\n",
    "2. CDH system component sizing process\n",
    "    * Select/size the proper microprocessor. Justify your selection\n",
    "    * Select/size the SSR. Justify your selection\n",
    "    * State what other hardware you need to complete the system\n",
    "3. CDH mass and power estimation\n",
    "    * Estimate mass and power based on recently flown CDH system.\n",
    "    * Prepare a CDH MEL and include uncertainties  \n",
    "4. CDH functional block diagram\n"
   ]
  },
  {
   "cell_type": "code",
   "execution_count": null,
   "metadata": {
    "collapsed": true
   },
   "outputs": [],
   "source": []
  }
 ],
 "metadata": {
  "kernelspec": {
   "display_name": "Python 3",
   "language": "python",
   "name": "python3"
  },
  "language_info": {
   "codemirror_mode": {
    "name": "ipython",
    "version": 3
   },
   "file_extension": ".py",
   "mimetype": "text/x-python",
   "name": "python",
   "nbconvert_exporter": "python",
   "pygments_lexer": "ipython3",
   "version": "3.6.0"
  }
 },
 "nbformat": 4,
 "nbformat_minor": 2
}
