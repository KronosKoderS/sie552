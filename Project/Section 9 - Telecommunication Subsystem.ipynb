{
 "cells": [
  {
   "cell_type": "markdown",
   "metadata": {},
   "source": [
    "The spacecraft telecommunication section shall report on the design process implemented to size the  overall  subsystem  including  link  analysis  and  mass  and  power  of  antennas,  transmitter,  and  other   communication   components. The   following   sections   shall   be   included   in   the   Telecommunication subsystem portion of the report:\n",
    "\n",
    "1. Telecommunication requirements and design assumptions\n",
    "    * Summarize  all  communication  requirements  including  data  rate  for  science  and  engineering data, DSN available antenna size and time etc.\n",
    "    * Define the communication modes as function of your baselined ConOps\n",
    "2. Link analysis\n",
    "    * Prepare a list of required uplinks and downlinks for science and engineering data transmission\n",
    "    * Perform  a  link  analysis  for  each  of  required  links.  Prepare  a  link  table  and  show adequate margin\n",
    "    * Identify required transmitting RF power and antenna size for adequate carrier and data margin.\n",
    "3. Telecommunication mass and power statement\n",
    "    * Select hardware that satisfies the communication requirements. Identify mass and power for each of the components. \n",
    "    * Prepare a telecommunication MEL with uncertainties\n",
    "4. Functional block diagram.\n"
   ]
  },
  {
   "cell_type": "code",
   "execution_count": null,
   "metadata": {
    "collapsed": true
   },
   "outputs": [],
   "source": []
  }
 ],
 "metadata": {
  "kernelspec": {
   "display_name": "Python 3",
   "language": "python",
   "name": "python3"
  },
  "language_info": {
   "codemirror_mode": {
    "name": "ipython",
    "version": 3
   },
   "file_extension": ".py",
   "mimetype": "text/x-python",
   "name": "python",
   "nbconvert_exporter": "python",
   "pygments_lexer": "ipython3",
   "version": "3.6.0"
  }
 },
 "nbformat": 4,
 "nbformat_minor": 2
}
