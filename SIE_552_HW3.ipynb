{
 "cells": [
  {
   "cell_type": "code",
   "execution_count": 1,
   "metadata": {
    "collapsed": false
   },
   "outputs": [
    {
     "data": {
      "text/html": [
       "\n",
       "    <div class=\"bk-root\">\n",
       "        <a href=\"http://bokeh.pydata.org\" target=\"_blank\" class=\"bk-logo bk-logo-small bk-logo-notebook\"></a>\n",
       "        <span id=\"f9a0bea8-c79d-4164-872a-4b04e84150a1\">Loading BokehJS ...</span>\n",
       "    </div>"
      ]
     },
     "metadata": {},
     "output_type": "display_data"
    },
    {
     "data": {
      "application/javascript": [
       "\n",
       "(function(global) {\n",
       "  function now() {\n",
       "    return new Date();\n",
       "  }\n",
       "\n",
       "  var force = \"1\";\n",
       "\n",
       "  if (typeof (window._bokeh_onload_callbacks) === \"undefined\" || force !== \"\") {\n",
       "    window._bokeh_onload_callbacks = [];\n",
       "    window._bokeh_is_loading = undefined;\n",
       "  }\n",
       "\n",
       "\n",
       "  \n",
       "  if (typeof (window._bokeh_timeout) === \"undefined\" || force !== \"\") {\n",
       "    window._bokeh_timeout = Date.now() + 5000;\n",
       "    window._bokeh_failed_load = false;\n",
       "  }\n",
       "\n",
       "  var NB_LOAD_WARNING = {'data': {'text/html':\n",
       "     \"<div style='background-color: #fdd'>\\n\"+\n",
       "     \"<p>\\n\"+\n",
       "     \"BokehJS does not appear to have successfully loaded. If loading BokehJS from CDN, this \\n\"+\n",
       "     \"may be due to a slow or bad network connection. Possible fixes:\\n\"+\n",
       "     \"</p>\\n\"+\n",
       "     \"<ul>\\n\"+\n",
       "     \"<li>re-rerun `output_notebook()` to attempt to load from CDN again, or</li>\\n\"+\n",
       "     \"<li>use INLINE resources instead, as so:</li>\\n\"+\n",
       "     \"</ul>\\n\"+\n",
       "     \"<code>\\n\"+\n",
       "     \"from bokeh.resources import INLINE\\n\"+\n",
       "     \"output_notebook(resources=INLINE)\\n\"+\n",
       "     \"</code>\\n\"+\n",
       "     \"</div>\"}};\n",
       "\n",
       "  function display_loaded() {\n",
       "    if (window.Bokeh !== undefined) {\n",
       "      Bokeh.$(\"#f9a0bea8-c79d-4164-872a-4b04e84150a1\").text(\"BokehJS successfully loaded.\");\n",
       "    } else if (Date.now() < window._bokeh_timeout) {\n",
       "      setTimeout(display_loaded, 100)\n",
       "    }\n",
       "  }\n",
       "\n",
       "  function run_callbacks() {\n",
       "    window._bokeh_onload_callbacks.forEach(function(callback) { callback() });\n",
       "    delete window._bokeh_onload_callbacks\n",
       "    console.info(\"Bokeh: all callbacks have finished\");\n",
       "  }\n",
       "\n",
       "  function load_libs(js_urls, callback) {\n",
       "    window._bokeh_onload_callbacks.push(callback);\n",
       "    if (window._bokeh_is_loading > 0) {\n",
       "      console.log(\"Bokeh: BokehJS is being loaded, scheduling callback at\", now());\n",
       "      return null;\n",
       "    }\n",
       "    if (js_urls == null || js_urls.length === 0) {\n",
       "      run_callbacks();\n",
       "      return null;\n",
       "    }\n",
       "    console.log(\"Bokeh: BokehJS not loaded, scheduling load and callback at\", now());\n",
       "    window._bokeh_is_loading = js_urls.length;\n",
       "    for (var i = 0; i < js_urls.length; i++) {\n",
       "      var url = js_urls[i];\n",
       "      var s = document.createElement('script');\n",
       "      s.src = url;\n",
       "      s.async = false;\n",
       "      s.onreadystatechange = s.onload = function() {\n",
       "        window._bokeh_is_loading--;\n",
       "        if (window._bokeh_is_loading === 0) {\n",
       "          console.log(\"Bokeh: all BokehJS libraries loaded\");\n",
       "          run_callbacks()\n",
       "        }\n",
       "      };\n",
       "      s.onerror = function() {\n",
       "        console.warn(\"failed to load library \" + url);\n",
       "      };\n",
       "      console.log(\"Bokeh: injecting script tag for BokehJS library: \", url);\n",
       "      document.getElementsByTagName(\"head\")[0].appendChild(s);\n",
       "    }\n",
       "  };var element = document.getElementById(\"f9a0bea8-c79d-4164-872a-4b04e84150a1\");\n",
       "  if (element == null) {\n",
       "    console.log(\"Bokeh: ERROR: autoload.js configured with elementid 'f9a0bea8-c79d-4164-872a-4b04e84150a1' but no matching script tag was found. \")\n",
       "    return false;\n",
       "  }\n",
       "\n",
       "  var js_urls = ['https://cdn.pydata.org/bokeh/release/bokeh-0.12.3.min.js', 'https://cdn.pydata.org/bokeh/release/bokeh-widgets-0.12.3.min.js'];\n",
       "\n",
       "  var inline_js = [\n",
       "    function(Bokeh) {\n",
       "      Bokeh.set_log_level(\"info\");\n",
       "    },\n",
       "    \n",
       "    function(Bokeh) {\n",
       "      \n",
       "      Bokeh.$(\"#f9a0bea8-c79d-4164-872a-4b04e84150a1\").text(\"BokehJS is loading...\");\n",
       "    },\n",
       "    function(Bokeh) {\n",
       "      console.log(\"Bokeh: injecting CSS: https://cdn.pydata.org/bokeh/release/bokeh-0.12.3.min.css\");\n",
       "      Bokeh.embed.inject_css(\"https://cdn.pydata.org/bokeh/release/bokeh-0.12.3.min.css\");\n",
       "      console.log(\"Bokeh: injecting CSS: https://cdn.pydata.org/bokeh/release/bokeh-widgets-0.12.3.min.css\");\n",
       "      Bokeh.embed.inject_css(\"https://cdn.pydata.org/bokeh/release/bokeh-widgets-0.12.3.min.css\");\n",
       "    }\n",
       "  ];\n",
       "\n",
       "  function run_inline_js() {\n",
       "    \n",
       "    if ((window.Bokeh !== undefined) || (force === \"1\")) {\n",
       "      for (var i = 0; i < inline_js.length; i++) {\n",
       "        inline_js[i](window.Bokeh);\n",
       "      }if (force === \"1\") {\n",
       "        display_loaded();\n",
       "      }} else if (Date.now() < window._bokeh_timeout) {\n",
       "      setTimeout(run_inline_js, 100);\n",
       "    } else if (!window._bokeh_failed_load) {\n",
       "      console.log(\"Bokeh: BokehJS failed to load within specified timeout.\");\n",
       "      window._bokeh_failed_load = true;\n",
       "    } else if (!force) {\n",
       "      var cell = $(\"#f9a0bea8-c79d-4164-872a-4b04e84150a1\").parents('.cell').data().cell;\n",
       "      cell.output_area.append_execute_result(NB_LOAD_WARNING)\n",
       "    }\n",
       "\n",
       "  }\n",
       "\n",
       "  if (window._bokeh_is_loading === 0) {\n",
       "    console.log(\"Bokeh: BokehJS loaded, going straight to plotting\");\n",
       "    run_inline_js();\n",
       "  } else {\n",
       "    load_libs(js_urls, function() {\n",
       "      console.log(\"Bokeh: BokehJS plotting callback run at\", now());\n",
       "      run_inline_js();\n",
       "    });\n",
       "  }\n",
       "}(this));"
      ]
     },
     "metadata": {},
     "output_type": "display_data"
    }
   ],
   "source": [
    "import datetime\n",
    "import math\n",
    "from sympy.interactive import printing\n",
    "from bokeh.plotting import figure, show\n",
    "from bokeh.io import output_notebook\n",
    "\n",
    "output_notebook()\n",
    "printing.init_printing(use_latex=True)"
   ]
  },
  {
   "cell_type": "markdown",
   "metadata": {},
   "source": [
    "# SIE 552 HW #3\n",
    "\n",
    "This is a space mission design assignment for interplantary travel.  The homework was to create a Type-1 trajectory from Earth to Mars.  Departure from earth is set to be March 22, 2021 with an anticipated arrival on Mars at October 8, 2021.  We're also given the following details about Earth and Mars:\n",
    "\n",
    "When designing the transfer ellipse, the overall mission has to be considered first.  We know that we want to create an interplanetary travel mission between Earth and Mars.  In order to plan this, we have to know more about those planets:\n",
    "\n",
    "- Earth at Launch: (March 22, 2021)\n",
    "    * Longitude = 181.44 deg \n",
    "    * Eccentricity = 0.0167\n",
    "    * SMA =  149,598,020 Km\n",
    "    * Inclination = 0 deg \n",
    "    * Longitude of the Perihelion = 102.958 deg \n",
    "    * Longitude of the Ascending Node = 0 deg \n",
    "    * Radius = 149,905,909.7 km \n",
    "    * Velocity = 29.89 km/sec\n",
    "    * True Anomaly = 78.48 deg \n",
    "    * Flight Path Angle = 0.9348 deg \n",
    "    \n",
    "    \n",
    "- Mars at Arrival: (October 8, 2021)\n",
    "    * Longitude = 333.22 deg \n",
    "    * Eccentricity = 0.0934\n",
    "    * SMA =  227,939,133 Km\n",
    "    * Inclination = 1.849 deg \n",
    "    * Longitude of the Perihelion = 336.093 deg \n",
    "    * Longitude of the Ascending Node = 49.572 deg \n",
    "    * Radius = 206,671,197 km\n",
    "    * Velocity = 26.94 km/sec\n",
    "    * True Anomaly = 357.128 deg \n",
    "    * Flight Path Angle = - 0.2452 deg\n",
    "    \n",
    "We'll store these as `PlanetaryObejct`'s in python to help us later.  "
   ]
  },
  {
   "cell_type": "code",
   "execution_count": 2,
   "metadata": {
    "collapsed": true
   },
   "outputs": [],
   "source": [
    "class PlanetaryObject():\n",
    "    \"\"\"\n",
    "    A simple class used to store pertinant information about the plantary object\n",
    "    \"\"\"\n",
    "    def __init__(self, L, e, SMA, i, peri, asc, r, v, anom, fp, mu):\n",
    "        self.L = L         # Longitude\n",
    "        self.e = e         # Eccentricity\n",
    "        self.SMA = SMA     # SMA\n",
    "        self.i = i         # Inclination\n",
    "        self.peri = peri   # Longitude of Perihelion\n",
    "        self.asc = asc     # Longitude of Ascending Node\n",
    "        self.r = r         # Radius\n",
    "        self.v = v         # Velocity\n",
    "        self.anom = anom   # True Anomaly\n",
    "        self.fp = fp       # Flight Path Angle\n",
    "        self.mu = mu       # Gravitation parameter\n",
    "\n",
    "earth = PlanetaryObject(\n",
    "    181.44,     # Longitude\n",
    "    0.0167,     # Eccentricity\n",
    "    149598020,  # SMA\n",
    "    0,          # Inclination\n",
    "    102.958,    # Longitude of Perihelion\n",
    "    0,          # Longitude of Ascending Node\n",
    "    14905909.7, # Radius\n",
    "    29.89,      # Velocity\n",
    "    78.48,      # True Anomaly\n",
    "    0.9348,     # Flight Path Angle\n",
    "    398600.4    # Gravitation parameter\n",
    ")\n",
    "mars = PlanetaryObject(\n",
    "    333.22,     # Longitude\n",
    "    0.0934,     # Eccentricity\n",
    "    227939133,  # SMA\n",
    "    1.849,      # Inclination\n",
    "    336.093,    # Longitude of Perihelion\n",
    "    49.572,     # Longitude of Ascending Node\n",
    "    206671197,  # Radius\n",
    "    26.94,      # Velocity\n",
    "    357.128,    # True Anomaly\n",
    "    -0.2452,    # Flight Path Angle\n",
    "    42828.3     # Gravitation parameter\n",
    ")"
   ]
  },
  {
   "cell_type": "markdown",
   "metadata": {},
   "source": [
    "There are also a few fundamental equations we need to know.  These are captured below as python functions.\n"
   ]
  },
  {
   "cell_type": "code",
   "execution_count": 16,
   "metadata": {
    "collapsed": true,
    "slideshow": {
     "slide_type": "-"
    }
   },
   "outputs": [],
   "source": [
    "mu_sun = 132712439935.5\n",
    "        \n",
    "def eccentricity(r_1, r_2, theta_1, theta_2):\n",
    "    \"\"\"\n",
    "    Calculates the eccentricity of the transfer ellipse.  This is calculated through \n",
    "    the following equation:\n",
    "    \n",
    "    .. math::\n",
    "        \\frac {r_2 - r_1} {r_1 * \\cos{\\theta_1} - r_2 * \\cos{\\theta_2}}\n",
    "    \n",
    "    :param r_1: radius of the departing planetary object\n",
    "    :param r_2: radius of the arriving planetary object\n",
    "    :param theta_1: True anomaly of the departing planetary object in degrees\n",
    "    :param theta_2: True anomaly of the arriving planetary object in degrees\n",
    "    \"\"\"\n",
    "    return (r_2 - r_1) / ((r_1 * math.cos(math.radians(theta_1))) - (r_2 * math.cos(math.radians(theta_2))))\n",
    "\n",
    "def periapsis_radius(r, e, theta):\n",
    "    \"\"\"\n",
    "    Calculates the periapsis radius of the transfer ellipse.  This is calculated \n",
    "    using the following equation:\n",
    "    \n",
    "    .. math::\n",
    "        \\frac {r_1 * [1 + e \\cos{\\theta]}} {1 + e}\n",
    "    \n",
    "    :param r: radius of the departing planetary object\n",
    "    :param e: eccentricity of the transfer ellipse\n",
    "    \"\"\"\n",
    "    return (r * (1 + e * math.cos(math.radians(theta)))) / (1 + e)\n",
    "\n",
    "def semimajor_axis(r=None, r_a=None, r_p=None, mu=None, V=None, e=None):\n",
    "    \"\"\"\n",
    "    Calculates the semi-major axis of the transfer ellipse.  This is calculated \n",
    "    using one of the following equations:\n",
    "    \n",
    "    .. math::\n",
    "        \\frac {r_a + r_p} {2}\n",
    "        \n",
    "        \\frac {\\mu r} {2 \\mu - V^2 r}\n",
    "        \n",
    "        \\frac {r_p} {1 - e}\n",
    "        \n",
    "        \\frac {r_a} {1 + e}\n",
    "    \n",
    "    :param r: general radius of the elliptical orbit\n",
    "    :param r_a: Radius of apoapsis\n",
    "    :param r_p: Radius of periapsis\n",
    "    :param mu: gravitation parameter\n",
    "    :param V: Velocity of the orbiting object\n",
    "    :param e: Eccentricity of the elliptical orbit\n",
    "    \"\"\"\n",
    "    if r_a != None and r_p != None:\n",
    "        return (r_a + r_p) / 2\n",
    "    if mu != None and r !=None and V != None:\n",
    "        return (mu * r) / (2 * mu - V ** 2 * r)\n",
    "    if r_p != None and e != None:\n",
    "        return r_p / (1 - e)\n",
    "    if r_a != None and e != None:\n",
    "        return r_a / (1 + e)\n",
    "    \n",
    "    # If we reach this point, then the passed in arguments doesn't match\n",
    "    #    any equations we have defined.  Raise an Error\n",
    "    raise TypeError(\"Invalid arguments!\")\n",
    "    \n",
    "\n",
    "def time_since_periapsis(e, n, theta=None, E=None):\n",
    "    \"\"\"\n",
    "    Calculates the time since the periapsis.  This is calculated using the\n",
    "    following equation:\n",
    "    \n",
    "    .. math::\n",
    "        \\frac {E - e \\sin{E}} {n}\n",
    "        \n",
    "    If E, isn't defined, it will be calculated using the param theta and \n",
    "    the following equation:\n",
    "    \n",
    "    ..math:: \n",
    "        \n",
    "        \\cos {E} = \\frac {e + \\cos{\\theta}} {1 + e \\cos{\\theta}}\n",
    "    \n",
    "    :param e: eccentricity of the transfer ellipse\n",
    "    :param n: mean motion\n",
    "    :param theta: degrees to periapsis\n",
    "    :param E: eccentric anomaly in radians\n",
    "    \"\"\"\n",
    "    if theta == None and E == None:\n",
    "        raise TypeError(\"theta or E MUST be defined\")\n",
    "    if theta != None and E != None:\n",
    "        raise TypeError(\"theta OR E must be defined.  Not both\")\n",
    "        \n",
    "    if E == None:\n",
    "        cos_E = (e + math.cos(math.radians(theta))) / (1 + e * math.cos(math.radians(theta)))\n",
    "        E = math.acos(cos_E)\n",
    "        \n",
    "    return (E - e * math.sin(E)) / n\n",
    "\n",
    "def mean_motion(mu, a):\n",
    "    \"\"\"\n",
    "    Calculates the mean motion of an elliptical orbit.  This is calculated \n",
    "    using the following equation:\n",
    "    \n",
    "    .. math::\n",
    "        \\sqrt{\\frac{\\mu} {a^3}}\n",
    "    \n",
    "    :param mu: gravitation parameter (Mass * Gravitation constant)\n",
    "    :param a: semimajor axis\n",
    "    \"\"\"\n",
    "    \n",
    "    return math.sqrt(mu / a ** 3)\n",
    "\n",
    "def velocity(mu, r, a):\n",
    "    \"\"\"\n",
    "    Calculates the Velocity (V) of an object based on the elliptical orbit.  \n",
    "    This is calculated using the following equation:\n",
    "    \n",
    "    .. math::\n",
    "        \\sqrt{\\frac{2 * \\mu} {r} - \\frac{\\mu} {a}}\n",
    "        \n",
    "    :param mu: gravitation parameter (Mass * Gravition constant)\n",
    "    :param a: semimajor axis\n",
    "    \"\"\"\n",
    "    return math.sqrt(2 * mu / r - mu / a)\n",
    "\n",
    "def flight_path_angle(e, theta):\n",
    "    \"\"\"\n",
    "    Calculates the Flight Path Angle (γ).  This is calculated using\n",
    "    the following equation:\n",
    "        \n",
    "    .. math::\n",
    "        \\tan{γ} = {\\frac{e * \\sin{\\theta}}{1 + 3 * \\cos{\\theta}}\n",
    "        \n",
    "    :param e: eccentricity of the elliptical orbit\n",
    "    :param theta: \n",
    "    \"\"\"\n",
    "    tan_y = (e * math.sin(math.radians(theta))) / (1 + e * math.cos(math.radians(theta)))\n",
    "    return math.atan(tan_y)\n",
    "\n",
    "def inclination(Omega, L_s, L_t, i):\n",
    "    a = math.radians(Omega + 180 - L_s)\n",
    "    b = math.radians(L_t - (180 + Omega))\n",
    "    alpha = math.radians(180 - i)\n",
    "    cos_c = math.cos(a) * math.cos(b) + math.sin(a) * math.sin(b) * math.cos(alpha)\n",
    "    c = math.acos(cos_c)\n",
    "    sin_i_t = (math.sin(alpha) * math.sin(b)) / math.sin(c)\n",
    "    return math.asin(sin_i_t)"
   ]
  },
  {
   "cell_type": "markdown",
   "metadata": {},
   "source": [
    "We'll split this problem up into 3 different sections:\n",
    "\n",
    "1. Transfer Ellipse\n",
    "2. Departure Trajectory\n",
    "3. Arrival Trajectory\n",
    "\n",
    "This approach is called the \"patched conics approach\".  "
   ]
  },
  {
   "cell_type": "markdown",
   "metadata": {},
   "source": [
    "## Designing the Transfer Ellipse\n",
    "\n",
    "In order to create the transfer ellipse between Earth and Mars, we're going to do the following:\n",
    "\n",
    "1. Determine the required # of days based off departure and arrival date\n",
    "2. Calculate the angular difference between Earth and Mars\n",
    "3. Design the Eccentricity, Periapsis Axis and Semi-Major Axis using an iterative approach\n",
    "4. Finally, calculating the respective velocities and flight path angles for each planetary object\n",
    "\n",
    "To find the required number of days to travel to Mars, we simply subtract the launch and arrival dates:"
   ]
  },
  {
   "cell_type": "code",
   "execution_count": 4,
   "metadata": {
    "collapsed": false
   },
   "outputs": [
    {
     "name": "stdout",
     "output_type": "stream",
     "text": [
      "200 days, 0:00:00\n"
     ]
    }
   ],
   "source": [
    "launch_date = datetime.date(2021, 3, 22)\n",
    "arrival_date = datetime.date(2021, 10, 8)\n",
    "time_of_flight = arrival_date - launch_date\n",
    "print(time_of_flight)\n",
    "time_of_flight = time_of_flight.days  # conversion from datetime to an integer"
   ]
  },
  {
   "cell_type": "markdown",
   "metadata": {},
   "source": [
    "Calculating the angular difference between the two planets is simply a subtraction of their Longitude"
   ]
  },
  {
   "cell_type": "code",
   "execution_count": 5,
   "metadata": {
    "collapsed": false
   },
   "outputs": [
    {
     "name": "stdout",
     "output_type": "stream",
     "text": [
      "Mars is 151.78° ahead of the Earth position\n"
     ]
    }
   ],
   "source": [
    "delta_L = mars.L - earth.L\n",
    "print(\"Mars is {:03.2f}° {} of the Earth position\".format(abs(delta_L), 'ahead' if delta_L > 0 else 'behind'))"
   ]
  },
  {
   "cell_type": "markdown",
   "metadata": {},
   "source": [
    "Since this difference is < 180°, we know that this is going to be a Type-I trajectory.  Starting with 180° as our trial line of Apsides from Earth, we calculate the eccentricity, periapsis radius and semimajor axis.  From these, we determine the time of flight for both planets and use that to calculate the total time of flight.  We want a time of flight to be near the 200 days we calculated above:"
   ]
  },
  {
   "cell_type": "code",
   "execution_count": 6,
   "metadata": {
    "collapsed": false
   },
   "outputs": [
    {
     "name": "stdout",
     "output_type": "stream",
     "text": [
      "The total time of flight for Earth θ = 21.00° and Mars θ = 172.78° is 199.65 days\n"
     ]
    }
   ],
   "source": [
    "total_TOF = 300 * 3600 * 24\n",
    "theta = 181  \n",
    "\n",
    "# storage lists for graphing the results:\n",
    "thetas = []\n",
    "tofs = []\n",
    "\n",
    "while total_TOF / 3600 / 24 > time_of_flight:\n",
    "    theta -= 1\n",
    "    e = eccentricity(earth.r, mars.r, earth.anom, mars.anom)\n",
    "    r = periapsis_radius(earth.r, e, theta)\n",
    "    a = semimajor_axis(r_p=mars.r, e=e)\n",
    "    n = mean_motion(mu_sun, a)\n",
    "    t_E = time_since_periapsis(e, n, theta=theta)\n",
    "    t_M = time_since_periapsis(e, n, theta=theta+delta_L)\n",
    "    total_TOF = (t_E + t_M)\n",
    "    thetas.append(theta)\n",
    "    tofs.append(total_TOF / 3600 / 24)\n",
    "    \n",
    "print(\"The total time of flight for Earth θ = {:.2f}° and Mars θ = {:.2f}° is {:.2f} days\".format(\n",
    "    theta, theta+delta_L, total_TOF/3600/24\n",
    "))"
   ]
  },
  {
   "cell_type": "code",
   "execution_count": 7,
   "metadata": {
    "collapsed": false
   },
   "outputs": [
    {
     "data": {
      "text/html": [
       "\n",
       "\n",
       "    <div class=\"bk-root\">\n",
       "        <div class=\"plotdiv\" id=\"54bc90fd-5a06-4faf-8271-1cc50c93bfff\"></div>\n",
       "    </div>\n",
       "<script type=\"text/javascript\">\n",
       "  \n",
       "  (function(global) {\n",
       "    function now() {\n",
       "      return new Date();\n",
       "    }\n",
       "  \n",
       "    var force = \"\";\n",
       "  \n",
       "    if (typeof (window._bokeh_onload_callbacks) === \"undefined\" || force !== \"\") {\n",
       "      window._bokeh_onload_callbacks = [];\n",
       "      window._bokeh_is_loading = undefined;\n",
       "    }\n",
       "  \n",
       "  \n",
       "    \n",
       "    if (typeof (window._bokeh_timeout) === \"undefined\" || force !== \"\") {\n",
       "      window._bokeh_timeout = Date.now() + 0;\n",
       "      window._bokeh_failed_load = false;\n",
       "    }\n",
       "  \n",
       "    var NB_LOAD_WARNING = {'data': {'text/html':\n",
       "       \"<div style='background-color: #fdd'>\\n\"+\n",
       "       \"<p>\\n\"+\n",
       "       \"BokehJS does not appear to have successfully loaded. If loading BokehJS from CDN, this \\n\"+\n",
       "       \"may be due to a slow or bad network connection. Possible fixes:\\n\"+\n",
       "       \"</p>\\n\"+\n",
       "       \"<ul>\\n\"+\n",
       "       \"<li>re-rerun `output_notebook()` to attempt to load from CDN again, or</li>\\n\"+\n",
       "       \"<li>use INLINE resources instead, as so:</li>\\n\"+\n",
       "       \"</ul>\\n\"+\n",
       "       \"<code>\\n\"+\n",
       "       \"from bokeh.resources import INLINE\\n\"+\n",
       "       \"output_notebook(resources=INLINE)\\n\"+\n",
       "       \"</code>\\n\"+\n",
       "       \"</div>\"}};\n",
       "  \n",
       "    function display_loaded() {\n",
       "      if (window.Bokeh !== undefined) {\n",
       "        Bokeh.$(\"#54bc90fd-5a06-4faf-8271-1cc50c93bfff\").text(\"BokehJS successfully loaded.\");\n",
       "      } else if (Date.now() < window._bokeh_timeout) {\n",
       "        setTimeout(display_loaded, 100)\n",
       "      }\n",
       "    }\n",
       "  \n",
       "    function run_callbacks() {\n",
       "      window._bokeh_onload_callbacks.forEach(function(callback) { callback() });\n",
       "      delete window._bokeh_onload_callbacks\n",
       "      console.info(\"Bokeh: all callbacks have finished\");\n",
       "    }\n",
       "  \n",
       "    function load_libs(js_urls, callback) {\n",
       "      window._bokeh_onload_callbacks.push(callback);\n",
       "      if (window._bokeh_is_loading > 0) {\n",
       "        console.log(\"Bokeh: BokehJS is being loaded, scheduling callback at\", now());\n",
       "        return null;\n",
       "      }\n",
       "      if (js_urls == null || js_urls.length === 0) {\n",
       "        run_callbacks();\n",
       "        return null;\n",
       "      }\n",
       "      console.log(\"Bokeh: BokehJS not loaded, scheduling load and callback at\", now());\n",
       "      window._bokeh_is_loading = js_urls.length;\n",
       "      for (var i = 0; i < js_urls.length; i++) {\n",
       "        var url = js_urls[i];\n",
       "        var s = document.createElement('script');\n",
       "        s.src = url;\n",
       "        s.async = false;\n",
       "        s.onreadystatechange = s.onload = function() {\n",
       "          window._bokeh_is_loading--;\n",
       "          if (window._bokeh_is_loading === 0) {\n",
       "            console.log(\"Bokeh: all BokehJS libraries loaded\");\n",
       "            run_callbacks()\n",
       "          }\n",
       "        };\n",
       "        s.onerror = function() {\n",
       "          console.warn(\"failed to load library \" + url);\n",
       "        };\n",
       "        console.log(\"Bokeh: injecting script tag for BokehJS library: \", url);\n",
       "        document.getElementsByTagName(\"head\")[0].appendChild(s);\n",
       "      }\n",
       "    };var element = document.getElementById(\"54bc90fd-5a06-4faf-8271-1cc50c93bfff\");\n",
       "    if (element == null) {\n",
       "      console.log(\"Bokeh: ERROR: autoload.js configured with elementid '54bc90fd-5a06-4faf-8271-1cc50c93bfff' but no matching script tag was found. \")\n",
       "      return false;\n",
       "    }\n",
       "  \n",
       "    var js_urls = [];\n",
       "  \n",
       "    var inline_js = [\n",
       "      function(Bokeh) {\n",
       "        Bokeh.$(function() {\n",
       "            var docs_json = {\"cae9c549-772a-458b-9ffa-da5071514628\":{\"roots\":{\"references\":[{\"attributes\":{\"plot\":{\"id\":\"96e98c93-fd9b-40ea-a4d2-328575429b6e\",\"subtype\":\"Figure\",\"type\":\"Plot\"},\"ticker\":{\"id\":\"1b0b3cbf-4309-42b5-bb57-944fbdf2068a\",\"type\":\"BasicTicker\"}},\"id\":\"2f4e3bf0-5186-4ddd-9211-d5ac98f650f7\",\"type\":\"Grid\"},{\"attributes\":{\"axis_label\":\"Trial line of Apsides (\\u03b8\\u00b0)\",\"formatter\":{\"id\":\"2a0f7fef-6f01-4499-bcfe-c76ed8eecffb\",\"type\":\"BasicTickFormatter\"},\"plot\":{\"id\":\"96e98c93-fd9b-40ea-a4d2-328575429b6e\",\"subtype\":\"Figure\",\"type\":\"Plot\"},\"ticker\":{\"id\":\"e2eac379-939c-4113-ba6c-5948d70113f2\",\"type\":\"BasicTicker\"}},\"id\":\"9cb51c40-8806-463b-ac3c-243519df4c26\",\"type\":\"LinearAxis\"},{\"attributes\":{},\"id\":\"e2eac379-939c-4113-ba6c-5948d70113f2\",\"type\":\"BasicTicker\"},{\"attributes\":{\"dimension\":1,\"plot\":{\"id\":\"96e98c93-fd9b-40ea-a4d2-328575429b6e\",\"subtype\":\"Figure\",\"type\":\"Plot\"},\"ticker\":{\"id\":\"e2eac379-939c-4113-ba6c-5948d70113f2\",\"type\":\"BasicTicker\"}},\"id\":\"30082e4d-bcd8-4ae6-9208-b8c43aa2fd65\",\"type\":\"Grid\"},{\"attributes\":{\"fill_alpha\":{\"value\":0.1},\"fill_color\":{\"value\":\"#1f77b4\"},\"height\":{\"value\":0.5},\"left\":{\"value\":180},\"line_alpha\":{\"value\":0.1},\"line_color\":{\"value\":\"#1f77b4\"},\"right\":{\"field\":\"right\"},\"y\":{\"field\":\"y\"}},\"id\":\"1c68039f-1a12-4ae2-a2c4-305de7a2ef0e\",\"type\":\"HBar\"},{\"attributes\":{\"bottom_units\":\"screen\",\"fill_alpha\":{\"value\":0.5},\"fill_color\":{\"value\":\"lightgrey\"},\"left_units\":\"screen\",\"level\":\"overlay\",\"line_alpha\":{\"value\":1.0},\"line_color\":{\"value\":\"black\"},\"line_dash\":[4,4],\"line_width\":{\"value\":2},\"plot\":null,\"render_mode\":\"css\",\"right_units\":\"screen\",\"top_units\":\"screen\"},\"id\":\"bf4d7f0f-26d2-4861-8b1b-58d77ab3d55f\",\"type\":\"BoxAnnotation\"},{\"attributes\":{},\"id\":\"2a0f7fef-6f01-4499-bcfe-c76ed8eecffb\",\"type\":\"BasicTickFormatter\"},{\"attributes\":{\"data_source\":{\"id\":\"19af266a-80cb-4c6c-b9cd-45a3c803a708\",\"type\":\"ColumnDataSource\"},\"glyph\":{\"id\":\"f3c8f847-2188-4214-9889-671fdad14fcb\",\"type\":\"HBar\"},\"hover_glyph\":null,\"nonselection_glyph\":{\"id\":\"1c68039f-1a12-4ae2-a2c4-305de7a2ef0e\",\"type\":\"HBar\"},\"selection_glyph\":null},\"id\":\"75eedecf-8a85-4760-a8d7-076aeafdc355\",\"type\":\"GlyphRenderer\"},{\"attributes\":{\"plot\":{\"id\":\"96e98c93-fd9b-40ea-a4d2-328575429b6e\",\"subtype\":\"Figure\",\"type\":\"Plot\"}},\"id\":\"07943bbb-947f-4308-97bf-0d1816253f6e\",\"type\":\"PanTool\"},{\"attributes\":{\"plot\":{\"id\":\"96e98c93-fd9b-40ea-a4d2-328575429b6e\",\"subtype\":\"Figure\",\"type\":\"Plot\"}},\"id\":\"41ffac4d-7ae2-4bc1-b730-6fba5f28d8e2\",\"type\":\"HelpTool\"},{\"attributes\":{\"plot\":{\"id\":\"96e98c93-fd9b-40ea-a4d2-328575429b6e\",\"subtype\":\"Figure\",\"type\":\"Plot\"}},\"id\":\"a6899dea-8a31-4a94-a288-48fb077d79d7\",\"type\":\"WheelZoomTool\"},{\"attributes\":{\"overlay\":{\"id\":\"bf4d7f0f-26d2-4861-8b1b-58d77ab3d55f\",\"type\":\"BoxAnnotation\"},\"plot\":{\"id\":\"96e98c93-fd9b-40ea-a4d2-328575429b6e\",\"subtype\":\"Figure\",\"type\":\"Plot\"}},\"id\":\"bf67e1d4-38c8-4bdf-a907-88cd82c88e31\",\"type\":\"BoxZoomTool\"},{\"attributes\":{\"plot\":{\"id\":\"96e98c93-fd9b-40ea-a4d2-328575429b6e\",\"subtype\":\"Figure\",\"type\":\"Plot\"}},\"id\":\"51a41b21-9c16-4251-a778-3f71f0e46065\",\"type\":\"SaveTool\"},{\"attributes\":{\"plot\":{\"id\":\"96e98c93-fd9b-40ea-a4d2-328575429b6e\",\"subtype\":\"Figure\",\"type\":\"Plot\"}},\"id\":\"c0cf62e4-53cd-450d-95c5-8a723c4694b2\",\"type\":\"ResetTool\"},{\"attributes\":{\"active_drag\":\"auto\",\"active_scroll\":\"auto\",\"active_tap\":\"auto\",\"tools\":[{\"id\":\"07943bbb-947f-4308-97bf-0d1816253f6e\",\"type\":\"PanTool\"},{\"id\":\"a6899dea-8a31-4a94-a288-48fb077d79d7\",\"type\":\"WheelZoomTool\"},{\"id\":\"bf67e1d4-38c8-4bdf-a907-88cd82c88e31\",\"type\":\"BoxZoomTool\"},{\"id\":\"51a41b21-9c16-4251-a778-3f71f0e46065\",\"type\":\"SaveTool\"},{\"id\":\"c0cf62e4-53cd-450d-95c5-8a723c4694b2\",\"type\":\"ResetTool\"},{\"id\":\"41ffac4d-7ae2-4bc1-b730-6fba5f28d8e2\",\"type\":\"HelpTool\"}]},\"id\":\"8fe5955f-521a-4a07-a890-7e8a5804cee8\",\"type\":\"Toolbar\"},{\"attributes\":{},\"id\":\"a1a03719-2afe-4373-a7aa-d78b13321a2b\",\"type\":\"BasicTickFormatter\"},{\"attributes\":{\"below\":[{\"id\":\"f419bb55-ce77-4040-9f06-95ee793c43ae\",\"type\":\"LinearAxis\"}],\"left\":[{\"id\":\"9cb51c40-8806-463b-ac3c-243519df4c26\",\"type\":\"LinearAxis\"}],\"renderers\":[{\"id\":\"f419bb55-ce77-4040-9f06-95ee793c43ae\",\"type\":\"LinearAxis\"},{\"id\":\"2f4e3bf0-5186-4ddd-9211-d5ac98f650f7\",\"type\":\"Grid\"},{\"id\":\"9cb51c40-8806-463b-ac3c-243519df4c26\",\"type\":\"LinearAxis\"},{\"id\":\"30082e4d-bcd8-4ae6-9208-b8c43aa2fd65\",\"type\":\"Grid\"},{\"id\":\"bf4d7f0f-26d2-4861-8b1b-58d77ab3d55f\",\"type\":\"BoxAnnotation\"},{\"id\":\"75eedecf-8a85-4760-a8d7-076aeafdc355\",\"type\":\"GlyphRenderer\"}],\"title\":{\"id\":\"9710464f-b9dd-45e3-bec2-369698ab434a\",\"type\":\"Title\"},\"tool_events\":{\"id\":\"a07f1b9e-78f2-49d4-9d1e-ced0adf3b823\",\"type\":\"ToolEvents\"},\"toolbar\":{\"id\":\"8fe5955f-521a-4a07-a890-7e8a5804cee8\",\"type\":\"Toolbar\"},\"x_range\":{\"id\":\"25330eaa-226e-48ab-9872-92b270927e35\",\"type\":\"DataRange1d\"},\"y_range\":{\"id\":\"4d9b5b6f-6b46-442f-8247-c1ca4ca8a820\",\"type\":\"DataRange1d\"}},\"id\":\"96e98c93-fd9b-40ea-a4d2-328575429b6e\",\"subtype\":\"Figure\",\"type\":\"Plot\"},{\"attributes\":{},\"id\":\"a07f1b9e-78f2-49d4-9d1e-ced0adf3b823\",\"type\":\"ToolEvents\"},{\"attributes\":{\"callback\":null,\"column_names\":[\"y\",\"right\"],\"data\":{\"right\":[207.86039398396386,208.6081117564196,209.2905454503369,209.9141617120546,210.48474604403722,211.0074730615354,211.48697084261576,211.92737940424277,212.3324035127147,212.70536014612637,213.04922098817633,213.36665036064755,213.66003900681096,213.93153412761149,214.18306605244013,214.4163719006289,214.63301656134612,214.83441129027383,215.02183019259928,215.19642483427697,215.35923719769644,215.51121117408408,215.65320276326767,215.78598913181906,215.91027666299794,216.02670811620953,216.13586899972947,216.23829324808267,216.3344682845346,216.42483953951935,216.50981448734626,216.58976625606752,216.66503685883626,216.73594008932812,216.80276411875033,216.8657738275248,216.92521290084412,216.98130571387648,217.03425902940464,217.08426352803804,217.13149518882912,217.1761165360832,217.2182777663597,217.25811776808516,217.2957650448059,217.33133855188268,217.36494845534637,217.39669682067708,217.4266782384235,217.4549803928312,217.48168457898433,217.50686617337848,217.530595062319,217.552936032077,217.57394912431982,217.59368995996905,217.6122100343065,217.62955698586094,217.64577484134213,217.66090423865765,217.674982629836,217.6880444654909,217.70012136229283,217.71124225475867,217.72143353253378,217.73071916421443,217.73912080864318,217.74665791450923,217.7533478089866,217.75920577605893,217.76424512509712,217.76847725018317,217.7719116806012,217.7745561228551,217.77641649450763,217.77749695007708,217.77779989917437,217.77732601700507,217.77607424730988,217.77404179776423,217.77122412780463,217.7676149287972,217.76320609641104,217.75798769500216,217.75194791375944,217.74507301430302,217.73734726936334,217.72875289210367,217.71926995557828,217.70887630174033,217.69754743933558,217.68525642992518,217.67197376118636,217.65766720653278,217.64230166998013,217.62583901505354,217.60823787639438,217.58945345256254,217.56943727836162,217.54813697481734,217.52549597472628,217.50145322145082,217.4759428383687,217.44889376608498,217.42022936417877,217.38986697387872,217.3577174376397,217.32368457111508,217.28766458248495,217.24954543349523,217.20920613588336,217.16651597609552,217.1213336603332,217.07350637098224,217.02286872436704,216.96924161850862,216.91243095813763,216.8522262425888,216.7883990003605,216.72070105202693,216.64886258080853,216.57258998739258,216.49156350251144,216.40543452726772,216.31382266719163,216.2163124214535,216.1124494834534,216.0017366030904,215.8836289542685,215.75752894352456,215.62278038693645,215.47866197256613,215.3243799144585,215.15905969151356,214.98173675021803,214.79134603411026,214.58671018482417,214.36652623949053,214.1293506271098,213.87358224224718,213.59744334816398,213.29895803359423,212.97592791834063,212.62590477362264,212.24615969507252,211.83364844155946,211.38497253470018,210.89633570634052,210.3634952905402,209.78170819098716,209.14567112556765,208.44945497199402,207.68379424960597,206.83456952488424,205.90287646298475,204.87951212340184,203.75424467283725,202.51572819955962,201.1514238549843,199.6475336797208],\"y\":[180,179,178,177,176,175,174,173,172,171,170,169,168,167,166,165,164,163,162,161,160,159,158,157,156,155,154,153,152,151,150,149,148,147,146,145,144,143,142,141,140,139,138,137,136,135,134,133,132,131,130,129,128,127,126,125,124,123,122,121,120,119,118,117,116,115,114,113,112,111,110,109,108,107,106,105,104,103,102,101,100,99,98,97,96,95,94,93,92,91,90,89,88,87,86,85,84,83,82,81,80,79,78,77,76,75,74,73,72,71,70,69,68,67,66,65,64,63,62,61,60,59,58,57,56,55,54,53,52,51,50,49,48,47,46,45,44,43,42,41,40,39,38,37,36,35,34,33,32,31,30,29,28,27,26,25,24,23,22,21]}},\"id\":\"19af266a-80cb-4c6c-b9cd-45a3c803a708\",\"type\":\"ColumnDataSource\"},{\"attributes\":{\"plot\":null,\"text\":\"Time of Flight Based On Selected Line of Apsides\"},\"id\":\"9710464f-b9dd-45e3-bec2-369698ab434a\",\"type\":\"Title\"},{\"attributes\":{\"callback\":null},\"id\":\"25330eaa-226e-48ab-9872-92b270927e35\",\"type\":\"DataRange1d\"},{\"attributes\":{\"callback\":null},\"id\":\"4d9b5b6f-6b46-442f-8247-c1ca4ca8a820\",\"type\":\"DataRange1d\"},{\"attributes\":{\"axis_label\":\"Time of Flight (Days)\",\"formatter\":{\"id\":\"a1a03719-2afe-4373-a7aa-d78b13321a2b\",\"type\":\"BasicTickFormatter\"},\"plot\":{\"id\":\"96e98c93-fd9b-40ea-a4d2-328575429b6e\",\"subtype\":\"Figure\",\"type\":\"Plot\"},\"ticker\":{\"id\":\"1b0b3cbf-4309-42b5-bb57-944fbdf2068a\",\"type\":\"BasicTicker\"}},\"id\":\"f419bb55-ce77-4040-9f06-95ee793c43ae\",\"type\":\"LinearAxis\"},{\"attributes\":{\"fill_color\":{\"value\":\"firebrick\"},\"height\":{\"value\":0.5},\"left\":{\"value\":180},\"line_color\":{\"value\":\"firebrick\"},\"right\":{\"field\":\"right\"},\"y\":{\"field\":\"y\"}},\"id\":\"f3c8f847-2188-4214-9889-671fdad14fcb\",\"type\":\"HBar\"},{\"attributes\":{},\"id\":\"1b0b3cbf-4309-42b5-bb57-944fbdf2068a\",\"type\":\"BasicTicker\"}],\"root_ids\":[\"96e98c93-fd9b-40ea-a4d2-328575429b6e\"]},\"title\":\"Bokeh Application\",\"version\":\"0.12.3\"}};\n",
       "            var render_items = [{\"docid\":\"cae9c549-772a-458b-9ffa-da5071514628\",\"elementid\":\"54bc90fd-5a06-4faf-8271-1cc50c93bfff\",\"modelid\":\"96e98c93-fd9b-40ea-a4d2-328575429b6e\"}];\n",
       "            \n",
       "            Bokeh.embed.embed_items(docs_json, render_items);\n",
       "        });\n",
       "      },\n",
       "      function(Bokeh) {\n",
       "      }\n",
       "    ];\n",
       "  \n",
       "    function run_inline_js() {\n",
       "      \n",
       "      if ((window.Bokeh !== undefined) || (force === \"1\")) {\n",
       "        for (var i = 0; i < inline_js.length; i++) {\n",
       "          inline_js[i](window.Bokeh);\n",
       "        }if (force === \"1\") {\n",
       "          display_loaded();\n",
       "        }} else if (Date.now() < window._bokeh_timeout) {\n",
       "        setTimeout(run_inline_js, 100);\n",
       "      } else if (!window._bokeh_failed_load) {\n",
       "        console.log(\"Bokeh: BokehJS failed to load within specified timeout.\");\n",
       "        window._bokeh_failed_load = true;\n",
       "      } else if (!force) {\n",
       "        var cell = $(\"#54bc90fd-5a06-4faf-8271-1cc50c93bfff\").parents('.cell').data().cell;\n",
       "        cell.output_area.append_execute_result(NB_LOAD_WARNING)\n",
       "      }\n",
       "  \n",
       "    }\n",
       "  \n",
       "    if (window._bokeh_is_loading === 0) {\n",
       "      console.log(\"Bokeh: BokehJS loaded, going straight to plotting\");\n",
       "      run_inline_js();\n",
       "    } else {\n",
       "      load_libs(js_urls, function() {\n",
       "        console.log(\"Bokeh: BokehJS plotting callback run at\", now());\n",
       "        run_inline_js();\n",
       "      });\n",
       "    }\n",
       "  }(this));\n",
       "</script>"
      ]
     },
     "metadata": {},
     "output_type": "display_data"
    }
   ],
   "source": [
    "p = figure(title='Time of Flight Based On Selected Line of Apsides', width=600, height=600)\n",
    "p.hbar(y=thetas, height=0.5, left=180, right=tofs, color=\"firebrick\")\n",
    "p.xaxis.axis_label = 'Time of Flight (Days)'\n",
    "p.yaxis.axis_label = 'Trial line of Apsides (θ°)'\n",
    "\n",
    "show(p)"
   ]
  },
  {
   "cell_type": "markdown",
   "metadata": {
    "collapsed": true
   },
   "source": [
    "Now that we've iteratively found a transfer ellipse with a travel time near the required 200 days, we examine the found eccentricity, periapsis radius and semimajor axis:"
   ]
  },
  {
   "cell_type": "code",
   "execution_count": 13,
   "metadata": {
    "collapsed": false
   },
   "outputs": [
    {
     "name": "stdout",
     "output_type": "stream",
     "text": [
      "Eccentricity:     -0.94\n",
      "Periapsis Radius: 03.12 x 10^6 km\n",
      "Semi-Major Axis:  10.64 x 10^6 km\n"
     ]
    }
   ],
   "source": [
    "print(\"Eccentricity:     {:05.2f}\".format(e))\n",
    "print(\"Periapsis Radius: {:05.2f} x 10^6 km\".format(r/10e6))\n",
    "print(\"Semi-Major Axis:  {:05.2f} x 10^6 km\".format(a/10e6))"
   ]
  },
  {
   "cell_type": "markdown",
   "metadata": {},
   "source": [
    "Next we determine the Velocities near Earth and Mars as well as their respective flight path angles (γ):"
   ]
  },
  {
   "cell_type": "code",
   "execution_count": 9,
   "metadata": {
    "collapsed": false
   },
   "outputs": [
    {
     "name": "stdout",
     "output_type": "stream",
     "text": [
      "Velocity near Earth: 128.68 km/s; \tVelocity near Mars: 6.07 km/s\n",
      "γ_e: -1.23;\t\t\t\tγ_m: -0.06\n"
     ]
    }
   ],
   "source": [
    "V_ne = velocity(mu_sun, earth.r, a)\n",
    "V_nm = velocity(mu_sun, mars.r, a)\n",
    "y_ne = flight_path_angle(e, theta)\n",
    "y_nm = flight_path_angle(e, theta + delta_L)\n",
    "print(\"Velocity near Earth: {:.2f} km/s; \\tVelocity near Mars: {:.2f} km/s\\nγ_e: {:.2f};\\t\\t\\t\\tγ_m: {:.2f}\".format(\n",
    "        V_ne, V_nm, y_ne, y_nm\n",
    "))"
   ]
  },
  {
   "cell_type": "markdown",
   "metadata": {},
   "source": [
    "## The Departure Trajectory\n",
    "\n",
    "The departure trajectory entails the following:\n",
    "\n",
    "* Determining the plane change\n",
    "* Calculating $V_{HE}$ and $C3$\n",
    "\n",
    "$V_{HE}$ is the vector required for the spacecraft to leave the Earth's gravitational pull, and enter into the calculated transfer ellipse above."
   ]
  },
  {
   "cell_type": "markdown",
   "metadata": {},
   "source": [
    "We'll use the function defined above to find the inclination of the transfer plane $i_t$:"
   ]
  },
  {
   "cell_type": "code",
   "execution_count": 17,
   "metadata": {
    "collapsed": false
   },
   "outputs": [
    {
     "name": "stdout",
     "output_type": "stream",
     "text": [
      "i_t = 3.80°\n"
     ]
    }
   ],
   "source": [
    "i_t = inclination(mars.asc, earth.L, mars.L, mars.i)\n",
    "print(\"i_t = {:.2f}°\".format(math.degrees(i_t)))"
   ]
  },
  {
   "cell_type": "markdown",
   "metadata": {},
   "source": [
    "Using $i_t$, we can now determine the $V_{HE}$ and $C3$ of the departing trajectory:"
   ]
  },
  {
   "cell_type": "code",
   "execution_count": 18,
   "metadata": {
    "collapsed": false
   },
   "outputs": [
    {
     "name": "stdout",
     "output_type": "stream",
     "text": [
      "C3 = 21745.76 km^2/s^2; V_he = 147.46 km/s\n"
     ]
    }
   ],
   "source": [
    "cos_alpha_2 = math.cos(i_t) * math.cos(earth.fp + abs(y_ne))\n",
    "alpha_2 = math.acos(cos_alpha_2)\n",
    "C3 = earth.v ** 2 + V_ne ** 2 - 2 * earth.v * V_ne * math.cos(alpha_2)\n",
    "V_he = math.sqrt(C3)\n",
    "print(\"C3 = {:.2f} km^2/s^2; V_he = {:.2f} km/s\".format(C3, V_he))"
   ]
  },
  {
   "cell_type": "markdown",
   "metadata": {},
   "source": [
    "## The Arrival Trajectory\n",
    "\n",
    "Similar to what was done for the departure trajectory, we'll calculate the plane change and then determine $V_\\infty$.  "
   ]
  },
  {
   "cell_type": "code",
   "execution_count": null,
   "metadata": {
    "collapsed": true
   },
   "outputs": [],
   "source": []
  }
 ],
 "metadata": {
  "celltoolbar": "Slideshow",
  "kernelspec": {
   "display_name": "Python 3",
   "language": "python",
   "name": "python3"
  },
  "language_info": {
   "codemirror_mode": {
    "name": "ipython",
    "version": 3
   },
   "file_extension": ".py",
   "mimetype": "text/x-python",
   "name": "python",
   "nbconvert_exporter": "python",
   "pygments_lexer": "ipython3",
   "version": "3.6.0"
  }
 },
 "nbformat": 4,
 "nbformat_minor": 2
}
