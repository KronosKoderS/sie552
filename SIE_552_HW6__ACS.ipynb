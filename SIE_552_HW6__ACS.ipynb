{
 "cells": [
  {
   "cell_type": "markdown",
   "metadata": {},
   "source": [
    "# Attitude Control System (ACS)\n",
    "\n",
    "This assignment is broken up into the following sections:\n",
    "\n",
    "* Mission Attitude Control modes\n",
    "* Selection of the ACS system-type\n",
    "* Minimum Thrust levels\n",
    "* Environmental Torques\n",
    "* System Performance"
   ]
  },
  {
   "cell_type": "markdown",
   "metadata": {},
   "source": [
    "## Mission Attitude Control modes\n",
    "\n",
    "The following control modes have been identified:\n",
    "\n",
    "1. **Science Mode** - Main mode of the system where scientific modules are used.\n",
    "    * Requires Nadir pointing\n",
    "    * All instruments are powered\n",
    "    \n",
    "2. **Data Transfer Mode** - Mode used to transfer data to/from Earth\n",
    "    * Power removed except Comms\n",
    "    * Used for large data xfers while still conserving power\n",
    "    \n",
    "3. **Energizing Mode** - Spacecraft is charging from the Sun's Rays\n",
    "    * Solar Arrays are pointed within a 5 degree maximum pointing error\n",
    "    * Systems are powered off to optimize charging rates/times"
   ]
  },
  {
   "cell_type": "markdown",
   "metadata": {},
   "source": [
    "## ACS System Type\n",
    "\n",
    "Based on the requirement identified, the three axis system appears to be the only system that will meet all requirements.  "
   ]
  },
  {
   "cell_type": "markdown",
   "metadata": {},
   "source": [
    "## Thrust Levels"
   ]
  },
  {
   "cell_type": "markdown",
   "metadata": {},
   "source": [
    "## Environmental Torques"
   ]
  },
  {
   "cell_type": "code",
   "execution_count": 1,
   "metadata": {
    "collapsed": true
   },
   "outputs": [],
   "source": [
    "import math"
   ]
  },
  {
   "cell_type": "code",
   "execution_count": 2,
   "metadata": {
    "collapsed": true
   },
   "outputs": [],
   "source": [
    "q = 0.6\n",
    "P_mars = 2.0 * 10 ** -6\n",
    "A_left = 7.6    # cm^2\n",
    "L_left = 131.2  # cm\n",
    "A_right = 6.3   # cm^2\n",
    "L_right = 126.1 # cm"
   ]
  },
  {
   "cell_type": "markdown",
   "metadata": {},
   "source": [
    "### Solar Torques"
   ]
  },
  {
   "cell_type": "code",
   "execution_count": 3,
   "metadata": {
    "collapsed": true
   },
   "outputs": [],
   "source": [
    "def solar_torque(P, A, L, q):\n",
    "    \"\"\"\n",
    "    Calculates the solar torque (T) based on the Solar Pressure (P), spacecraft Area (A), \n",
    "    distance from centroid of surface A (L), and reflective factor (q)\n",
    "    \n",
    "    This function uses the following formula:\n",
    "        \n",
    "        T = P * A * L * (1 + q)\n",
    "    \n",
    "    \n",
    "    Parameters:\n",
    "    -----------\n",
    "    :param P: Solar Pressure of the orbiting planet (in W/m^2)\n",
    "    :param A: Area of the spacecraft side (in m^2)\n",
    "    :param L: Distance from the centroid of the surface A (in m)\n",
    "    :param q: Reflectance factor between 0 and 1\n",
    "    \"\"\"\n",
    "    if not 0 <= q <=1:\n",
    "        raise ValueError(\"q must be between 0 and 1\")\n",
    "    return P * A * L * (1 + q)"
   ]
  },
  {
   "cell_type": "code",
   "execution_count": 4,
   "metadata": {
    "collapsed": true
   },
   "outputs": [],
   "source": [
    "T_right = solar_torque(P_mars, A_right / 100, L_right / 100, q)\n",
    "T_left = solar_torque(P_mars, A_left / 100, L_left / 100, q)"
   ]
  },
  {
   "cell_type": "code",
   "execution_count": 5,
   "metadata": {
    "collapsed": false
   },
   "outputs": [
    {
     "name": "stdout",
     "output_type": "stream",
     "text": [
      "Total Torque = 5.73296e-07\n"
     ]
    }
   ],
   "source": [
    "print(\"Total Torque = {}\".format(T_right + T_left))"
   ]
  },
  {
   "cell_type": "markdown",
   "metadata": {},
   "source": [
    "### Magnetic Torques"
   ]
  },
  {
   "cell_type": "code",
   "execution_count": 6,
   "metadata": {
    "collapsed": true
   },
   "outputs": [],
   "source": [
    "def magnetic_torque(D, B=None, M=None, r=None):\n",
    "    \"\"\"\n",
    "    Calculates the magnetic torque on a space craft orbiting a planetary object based on the \n",
    "    residule dipole (D) of the spacecraft and the planetary object's magnetic field (B).\n",
    "    \n",
    "    This function uses the following formula:\n",
    "    \n",
    "        T = 10e-7 * D * B\n",
    "        \n",
    "    Where:\n",
    "        \n",
    "        B = 2 * M / r^3\n",
    "        \n",
    "    If B isn't defined, it's assumed that M and r will be, otherwise a ValueError is raised.  \n",
    "    If B is defined, the function uses that value, even when M and/or r is defined.  \n",
    "    \n",
    "    Parameters:\n",
    "    -----------\n",
    "    :param D: Residual dipole of the spacecraft (in pole-cm)\n",
    "    :param B: Planetary object's magnetic field (in gauss)\n",
    "    :param M: Magnetic moment of the planetary object (in emu)\n",
    "    :param r: Spacecraft orbital radius (in cm)\n",
    "    \"\"\"\n",
    "    if B is None and (M is None or r is None):\n",
    "        raise ValueError(\"B or M and r must be defined!\")\n",
    "    \n",
    "    if B is None:\n",
    "        B = 2 * M / r ** 3\n",
    "        \n",
    "    return 10 ** -7 * D * B"
   ]
  },
  {
   "cell_type": "code",
   "execution_count": 7,
   "metadata": {
    "collapsed": true
   },
   "outputs": [],
   "source": [
    "mars_r = 3.397  # km\n",
    "mars_orbit_dist = .400 # km"
   ]
  },
  {
   "cell_type": "code",
   "execution_count": 8,
   "metadata": {
    "collapsed": true
   },
   "outputs": [],
   "source": [
    "mars_B_o = 5 * 10**-8\n",
    "mars_r_o = mars_r * 10 ** 8\n",
    "r = mars_r + mars_orbit_dist * 10 ** 8\n",
    "B = (mars_B_o * mars_r_o ** 3) / (r ** 3) * math.sqrt((3 * math.sin(0)**2 + 1))"
   ]
  },
  {
   "cell_type": "code",
   "execution_count": 9,
   "metadata": {
    "collapsed": false
   },
   "outputs": [
    {
     "data": {
      "text/plain": [
       "3.06250326451629e-05"
      ]
     },
     "execution_count": 9,
     "metadata": {},
     "output_type": "execute_result"
    }
   ],
   "source": [
    "B"
   ]
  },
  {
   "cell_type": "code",
   "execution_count": 10,
   "metadata": {
    "collapsed": false
   },
   "outputs": [
    {
     "name": "stdout",
     "output_type": "stream",
     "text": [
      "2.3275024810323802e-11 1.9293770566452625e-11\n"
     ]
    }
   ],
   "source": [
    "T_m_left = magnetic_torque(A_left, B)\n",
    "T_m_right = magnetic_torque(A_right, B)\n",
    "print(T_m_left, T_m_right)"
   ]
  },
  {
   "cell_type": "code",
   "execution_count": 11,
   "metadata": {
    "collapsed": false
   },
   "outputs": [
    {
     "data": {
      "text/plain": [
       "True"
      ]
     },
     "execution_count": 11,
     "metadata": {},
     "output_type": "execute_result"
    }
   ],
   "source": [
    "T_m_right < T_right and T_m_left < T_left"
   ]
  },
  {
   "cell_type": "markdown",
   "metadata": {},
   "source": [
    "Since both the magnetic torques are less than the solar torques, their sum is also less.  "
   ]
  },
  {
   "cell_type": "markdown",
   "metadata": {},
   "source": [
    "### Gravitational Gradient Torques"
   ]
  },
  {
   "cell_type": "code",
   "execution_count": 12,
   "metadata": {
    "collapsed": true
   },
   "outputs": [],
   "source": [
    "def gravity_gradient_torque(u, r, I_z, I_y, theta):\n",
    "    return 3 * u / r ** 3 * abs(I_z - I_y) * theta"
   ]
  },
  {
   "cell_type": "code",
   "execution_count": 13,
   "metadata": {
    "collapsed": true
   },
   "outputs": [],
   "source": [
    "mars_u = 324858.8\n",
    "T_g = gravity_gradient_torque(mars_u, r, L_left / 100, L_right / 100, math.pi / 4)"
   ]
  },
  {
   "cell_type": "code",
   "execution_count": 14,
   "metadata": {
    "collapsed": false
   },
   "outputs": [
    {
     "data": {
      "text/plain": [
       "6.099522859615071e-19"
      ]
     },
     "execution_count": 14,
     "metadata": {},
     "output_type": "execute_result"
    }
   ],
   "source": [
    "T_g"
   ]
  },
  {
   "cell_type": "code",
   "execution_count": 15,
   "metadata": {
    "collapsed": false
   },
   "outputs": [
    {
     "data": {
      "text/plain": [
       "True"
      ]
     },
     "execution_count": 15,
     "metadata": {},
     "output_type": "execute_result"
    }
   ],
   "source": [
    "T_g < T_left and T_g < T_right"
   ]
  },
  {
   "cell_type": "markdown",
   "metadata": {},
   "source": [
    "Gravitational gradient torque calculated is significantly less than the two solar torques and therefore less than their total."
   ]
  },
  {
   "cell_type": "markdown",
   "metadata": {},
   "source": [
    "## System Performance"
   ]
  },
  {
   "cell_type": "code",
   "execution_count": null,
   "metadata": {
    "collapsed": true
   },
   "outputs": [],
   "source": []
  }
 ],
 "metadata": {
  "kernelspec": {
   "display_name": "Python 3",
   "language": "python",
   "name": "python3"
  },
  "language_info": {
   "codemirror_mode": {
    "name": "ipython",
    "version": 3
   },
   "file_extension": ".py",
   "mimetype": "text/x-python",
   "name": "python",
   "nbconvert_exporter": "python",
   "pygments_lexer": "ipython3",
   "version": "3.5.1"
  }
 },
 "nbformat": 4,
 "nbformat_minor": 0
}
