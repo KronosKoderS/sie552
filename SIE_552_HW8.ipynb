{
 "cells": [
  {
   "cell_type": "code",
   "execution_count": 1,
   "metadata": {
    "collapsed": true
   },
   "outputs": [],
   "source": [
    "import numpy as np\n",
    "import pandas as pd"
   ]
  },
  {
   "cell_type": "code",
   "execution_count": 9,
   "metadata": {},
   "outputs": [
    {
     "data": {
      "text/html": [
       "<div>\n",
       "<table border=\"1\" class=\"dataframe\">\n",
       "  <thead>\n",
       "    <tr style=\"text-align: right;\">\n",
       "      <th></th>\n",
       "      <th>Mass (kg)</th>\n",
       "      <th>Peak Power (W)</th>\n",
       "      <th>Avg Power (W)</th>\n",
       "      <th>Temp Op Low (°C)</th>\n",
       "      <th>Temp Op High (°C)</th>\n",
       "      <th>Temp Low (°C)</th>\n",
       "      <th>Temp High (°C)</th>\n",
       "    </tr>\n",
       "  </thead>\n",
       "  <tbody>\n",
       "    <tr>\n",
       "      <th>NAC</th>\n",
       "      <td>16.4</td>\n",
       "      <td>9.3</td>\n",
       "      <td>6.4</td>\n",
       "      <td>0</td>\n",
       "      <td>20</td>\n",
       "      <td>-40</td>\n",
       "      <td>25</td>\n",
       "    </tr>\n",
       "    <tr>\n",
       "      <th>WAC</th>\n",
       "      <td>0.9</td>\n",
       "      <td>2.7</td>\n",
       "      <td>2.6</td>\n",
       "      <td>-20</td>\n",
       "      <td>30</td>\n",
       "      <td>-30</td>\n",
       "      <td>40</td>\n",
       "    </tr>\n",
       "    <tr>\n",
       "      <th>TEIS</th>\n",
       "      <td>11.2</td>\n",
       "      <td>14.0</td>\n",
       "      <td>14.0</td>\n",
       "      <td>-30</td>\n",
       "      <td>30</td>\n",
       "      <td>-30</td>\n",
       "      <td>45</td>\n",
       "    </tr>\n",
       "    <tr>\n",
       "      <th>HEND</th>\n",
       "      <td>26.3</td>\n",
       "      <td>13.0</td>\n",
       "      <td>13.0</td>\n",
       "      <td>-20</td>\n",
       "      <td>50</td>\n",
       "      <td>-20</td>\n",
       "      <td>50</td>\n",
       "    </tr>\n",
       "    <tr>\n",
       "      <th>LA</th>\n",
       "      <td>25.0</td>\n",
       "      <td>33.1</td>\n",
       "      <td>23.1</td>\n",
       "      <td>-20</td>\n",
       "      <td>30</td>\n",
       "      <td>-30</td>\n",
       "      <td>40</td>\n",
       "    </tr>\n",
       "  </tbody>\n",
       "</table>\n",
       "</div>"
      ],
      "text/plain": [
       "      Mass (kg)  Peak Power (W)  Avg Power (W)  Temp Op Low (°C)  \\\n",
       "NAC        16.4             9.3            6.4                 0   \n",
       "WAC         0.9             2.7            2.6               -20   \n",
       "TEIS       11.2            14.0           14.0               -30   \n",
       "HEND       26.3            13.0           13.0               -20   \n",
       "LA         25.0            33.1           23.1               -20   \n",
       "\n",
       "      Temp Op High (°C)  Temp Low (°C)  Temp High (°C)  \n",
       "NAC                  20            -40              25  \n",
       "WAC                  30            -30              40  \n",
       "TEIS                 30            -30              45  \n",
       "HEND                 50            -20              50  \n",
       "LA                   30            -30              40  "
      ]
     },
     "execution_count": 9,
     "metadata": {},
     "output_type": "execute_result"
    }
   ],
   "source": [
    "plds = pd.read_csv(\"payloads.csv\", index_col=0)\n",
    "plds"
   ]
  },
  {
   "cell_type": "markdown",
   "metadata": {},
   "source": [
    "## Step 1"
   ]
  },
  {
   "cell_type": "code",
   "execution_count": 14,
   "metadata": {},
   "outputs": [
    {
     "data": {
      "text/plain": [
       "(-30, 50)"
      ]
     },
     "execution_count": 14,
     "metadata": {},
     "output_type": "execute_result"
    }
   ],
   "source": [
    "min(plds['Temp Op Low (°C)']), max(plds['Temp Op High (°C)'])"
   ]
  },
  {
   "cell_type": "code",
   "execution_count": 15,
   "metadata": {},
   "outputs": [
    {
     "data": {
      "text/plain": [
       "(-40, 50)"
      ]
     },
     "execution_count": 15,
     "metadata": {},
     "output_type": "execute_result"
    }
   ],
   "source": [
    "min(plds['Temp Low (°C)']), max(plds['Temp High (°C)'])"
   ]
  },
  {
   "cell_type": "markdown",
   "metadata": {},
   "source": [
    "The Thermal Control needs to be able to control the temperature of the payloads from a range of -45 °C to 55 °C. "
   ]
  },
  {
   "cell_type": "markdown",
   "metadata": {},
   "source": [
    "Based on the SRD requirements, the Thermal control needs to be able to control the temperature from a range of -105 °C to 105 °C.  "
   ]
  },
  {
   "cell_type": "markdown",
   "metadata": {},
   "source": [
    "## Step 2"
   ]
  },
  {
   "cell_type": "markdown",
   "metadata": {},
   "source": []
  }
 ],
 "metadata": {
  "kernelspec": {
   "display_name": "Python 3",
   "language": "python",
   "name": "python3"
  },
  "language_info": {
   "codemirror_mode": {
    "name": "ipython",
    "version": 3
   },
   "file_extension": ".py",
   "mimetype": "text/x-python",
   "name": "python",
   "nbconvert_exporter": "python",
   "pygments_lexer": "ipython3",
   "version": "3.6.0"
  }
 },
 "nbformat": 4,
 "nbformat_minor": 2
}
