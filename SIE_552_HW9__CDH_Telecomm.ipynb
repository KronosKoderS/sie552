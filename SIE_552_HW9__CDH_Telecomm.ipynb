{
 "cells": [
  {
   "cell_type": "markdown",
   "metadata": {},
   "source": [
    "## Command and Data Handling (CDH)\n",
    "\n",
    "1. Determine the max and min symbol rate for the science data with overhead and coding.  Assume maximum overhead.\n",
    "2. Determine the required solid state recorder capacity and rate capability if the downlink empties the recorder every 24 hours. Store data plus overhead; assume that coding is applied to the bit stream as data is read out of the recorder for transmission. Note that the storage system applies a code to the arriving data and removes it as data is read out. As explained during the lectures, this process is invisible to the user and should not be considered in this calculation/analysis\n",
    "3. What is the communication system downlink symbol rate requirement to empty the solid state storage once per day is the DSN time is limited to 12 hours/day? (Look at the SRD and you will notice that you are constrained to use DSN only 12 hrs/day). \n",
    "4. Estimate subsystem mass and power. As discussed in class, the lectures/book provides some estimates for hardware as function of the symbol data rate, Gb required etc. Some of those numbers are outdated as technology moves faster. You need to do some research to get some new number by analogy, i.e. look for most recent flown spacecraft and gather information about their CDH mass and power. Provide new figures for estimation. Update mass and power statement (in SE section). "
   ]
  },
  {
   "cell_type": "markdown",
   "metadata": {},
   "source": [
    "### Symbol Rate\n",
    "\n",
    "<table>\n",
    "<tr><th>Payload</th><th>Rate (bps)</th></tr>\n",
    "<tr><td>NAC</td>    <td>30,000,000</td></tr>\n",
    "</table>\n",
    "\n"
   ]
  },
  {
   "cell_type": "code",
   "execution_count": null,
   "metadata": {
    "collapsed": true
   },
   "outputs": [],
   "source": []
  }
 ],
 "metadata": {
  "kernelspec": {
   "display_name": "Python 3",
   "language": "python",
   "name": "python3"
  },
  "language_info": {
   "codemirror_mode": {
    "name": "ipython",
    "version": 3
   },
   "file_extension": ".py",
   "mimetype": "text/x-python",
   "name": "python",
   "nbconvert_exporter": "python",
   "pygments_lexer": "ipython3",
   "version": "3.6.0"
  }
 },
 "nbformat": 4,
 "nbformat_minor": 2
}
