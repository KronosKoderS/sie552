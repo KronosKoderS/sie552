{
 "cells": [
  {
   "cell_type": "code",
   "execution_count": 1,
   "metadata": {
    "collapsed": true
   },
   "outputs": [],
   "source": [
    "import datetime\n",
    "import math"
   ]
  },
  {
   "cell_type": "markdown",
   "metadata": {},
   "source": [
    "This is a direct copy of the Earth to Venus mission plan.  I'm doing this to make sure I get the functions correct, before proceeding further on the Earth to Mars.  "
   ]
  },
  {
   "cell_type": "markdown",
   "metadata": {},
   "source": [
    "Below is the capturing of the data for each planet.  I'm using a custom `PlanetaryObject` class to store the information"
   ]
  },
  {
   "cell_type": "code",
   "execution_count": 2,
   "metadata": {
    "collapsed": true
   },
   "outputs": [],
   "source": [
    "class PlanetaryObject():\n",
    "    \"\"\"\n",
    "    A simple class used to store pertinant information about the plantary object\n",
    "    \"\"\"\n",
    "    def __init__(self, date, L, e, SMA, i, peri, asc, r, v, anom, fp, mu):\n",
    "        self.date = date   # Event Date\n",
    "        self.L = L         # Longitude\n",
    "        self.e = e         # Eccentricity\n",
    "        self.SMA = SMA     # SMA\n",
    "        self.i = i         # Inclination\n",
    "        self.peri = peri   # Longitude of Perihelion\n",
    "        self.asc = asc     # Longitude of Ascending Node\n",
    "        self.r = r         # Radius\n",
    "        self.v = v         # Velocity\n",
    "        self.anom = anom   # True Anomaly\n",
    "        self.fp = fp       # Flight Path Angle\n",
    "        self.mu = mu       # Gravitation parameter"
   ]
  },
  {
   "cell_type": "code",
   "execution_count": 3,
   "metadata": {},
   "outputs": [],
   "source": [
    "earth = PlanetaryObject(\n",
    "    datetime.date(1988, 4, 8),\n",
    "    197.53,     # Longitude\n",
    "    0.01672,    # Eccentricity\n",
    "    None,       # SMA\n",
    "    None,       # Inclination\n",
    "    102.29,     # Longitude of Perihelion\n",
    "    0,          # Longitude of Ascending Node\n",
    "    149.7848e6, # Radius\n",
    "    29.75,      # Velocity\n",
    "    95.24,      # True Anomaly\n",
    "    0.9554,     # Flight Path Angle\n",
    "    398600.4    # Gravitation parameter (km^3/s^2)\n",
    ")"
   ]
  },
  {
   "cell_type": "code",
   "execution_count": 4,
   "metadata": {
    "collapsed": true
   },
   "outputs": [],
   "source": [
    "venus = PlanetaryObject(\n",
    "    datetime.date(1988, 7, 26),\n",
    "    330.52,     # Longitude\n",
    "    0.006778,   # Eccentricity\n",
    "    None,       # SMA\n",
    "    3.394,      # Inclination\n",
    "    131.41,     # Longitude of Perihelion\n",
    "    76.58,      # Longitude of Ascending Node\n",
    "    108.9014e6, # Radius\n",
    "    34.8,      # Velocity\n",
    "    199.11,     # True Anomaly\n",
    "    -0.128,     # Flight Path Angle\n",
    "    324858.8    # Gravitation parameter (km^3/s^2)\n",
    ")"
   ]
  },
  {
   "cell_type": "markdown",
   "metadata": {},
   "source": [
    "These are my formulas in python form.  They're based off of Table 3.3 found in the book"
   ]
  },
  {
   "cell_type": "code",
   "execution_count": 5,
   "metadata": {
    "collapsed": true
   },
   "outputs": [],
   "source": [
    "mu_sun = 132712439935.5\n",
    "        \n",
    "def eccentricity(r_1, r_2, theta_1, theta_2):\n",
    "    \"\"\"\n",
    "    Calculates the eccentricity of the transfer ellipse.  This is calculated through \n",
    "    the following equation:\n",
    "    \n",
    "    .. math::\n",
    "        \\frac {r_2 - r_1} {r_1 * \\cos{\\theta_1} - r_2 * \\cos{\\theta_2}}\n",
    "    \n",
    "    :param r_1: radius of the departing planetary object\n",
    "    :param r_2: radius of the arriving planetary object\n",
    "    :param theta_1: True anomaly of the departing planetary object in degrees\n",
    "    :param theta_2: True anomaly of the arriving planetary object in degrees\n",
    "    \"\"\"\n",
    "    return (r_2 - r_1) / ((r_1 * math.cos(math.radians(theta_1))) - (r_2 * math.cos(math.radians(theta_2))))\n",
    "\n",
    "def periapsis_radius(r, e, theta):\n",
    "    \"\"\"\n",
    "    Calculates the periapsis radius of the transfer ellipse.  This is calculated \n",
    "    using the following equation:\n",
    "    \n",
    "    .. math::\n",
    "        \\frac {r_1 * [1 + e \\cos{\\theta]}} {1 + e}\n",
    "    \n",
    "    :param r: radius of the departing planetary object\n",
    "    :param e: eccentricity of the transfer ellipse\n",
    "    \"\"\"\n",
    "    return (r * (1 + e * math.cos(math.radians(theta)))) / (1 + e)\n",
    "\n",
    "def semimajor_axis(r=None, r_a=None, r_p=None, mu=None, V=None, e=None):\n",
    "    \"\"\"\n",
    "    Calculates the semi-major axis of the transfer ellipse.  This is calculated \n",
    "    using one of the following equations:\n",
    "    \n",
    "    .. math::\n",
    "        \\frac {r_a + r_p} {2}\n",
    "        \n",
    "        \\frac {\\mu r} {2 \\mu - V^2 r}\n",
    "        \n",
    "        \\frac {r_p} {1 - e}\n",
    "        \n",
    "        \\frac {r_a} {1 + e}\n",
    "    \n",
    "    :param r: general radius of the elliptical orbit\n",
    "    :param r_a: Radius of apoapsis\n",
    "    :param r_p: Radius of periapsis\n",
    "    :param mu: gravitation parameter\n",
    "    :param V: Velocity of the orbiting object\n",
    "    :param e: Eccentricity of the elliptical orbit\n",
    "    \"\"\"\n",
    "    if r_a != None and r_p != None:\n",
    "        return (r_a + r_p) / 2\n",
    "    if mu != None and r !=None and V != None:\n",
    "        return (mu * r) / (2 * mu - V ** 2 * r)\n",
    "    if r_p != None and e != None:\n",
    "        return r_p / (1 - e)\n",
    "    if r_a != None and e != None:\n",
    "        return r_a / (1 + e)\n",
    "    \n",
    "    # If we reach this point, then the passed in arguments doesn't match\n",
    "    #    any equations we have defined.  Raise an Error\n",
    "    raise TypeError(\"Invalid arguments!\")\n",
    "    \n",
    "\n",
    "def time_since_periapsis(e, n, theta=None, E=None):\n",
    "    \"\"\"\n",
    "    Calculates the time since the periapsis.  This is calculated using the\n",
    "    following equation:\n",
    "    \n",
    "    .. math::\n",
    "        \\frac {E - e \\sin{E}} {n}\n",
    "        \n",
    "    If E, isn't defined, it will be calculated using the param theta and \n",
    "    the following equation:\n",
    "    \n",
    "    ..math:: \n",
    "        \n",
    "        \\cos {E} = \\frac {e + \\cos{\\theta}} {1 + e \\cos{\\theta}}\n",
    "    \n",
    "    :param e: eccentricity of the transfer ellipse\n",
    "    :param n: mean motion\n",
    "    :param theta: degrees to periapsis\n",
    "    :param E: eccentric anomaly in radians\n",
    "    \"\"\"\n",
    "    if theta == None and E == None:\n",
    "        raise TypeError(\"theta or E MUST be defined\")\n",
    "    if theta != None and E != None:\n",
    "        raise TypeError(\"theta OR E must be defined.  Not both\")\n",
    "        \n",
    "    if E == None:\n",
    "        cos_E = (e + math.cos(math.radians(theta))) / (1 + e * math.cos(math.radians(theta)))\n",
    "        E = math.acos(cos_E)\n",
    "        \n",
    "    return (E - e * math.sin(E)) / n\n",
    "\n",
    "def mean_motion(mu, a):\n",
    "    \"\"\"\n",
    "    Calculates the mean motion of an elliptical orbit.  This is calculated \n",
    "    using the following equation:\n",
    "    \n",
    "    .. math::\n",
    "        \\sqrt{\\frac{\\mu} {a^3}}\n",
    "    \n",
    "    :param mu: gravitation parameter (Mass * Gravitation constant)\n",
    "    :param a: semimajor axis\n",
    "    \"\"\"\n",
    "    \n",
    "    return math.sqrt(mu / a ** 3)\n",
    "\n",
    "def velocity(mu, r, a):\n",
    "    \"\"\"\n",
    "    Calculates the Velocity (V) of an object based on the elliptical orbit.  \n",
    "    This is calculated using the following equation:\n",
    "    \n",
    "    .. math::\n",
    "        \\sqrt{\\frac{2 * \\mu} {r} - \\frac{\\mu} {a}}\n",
    "        \n",
    "    :param mu: gravitation parameter (Mass * Gravition constant)\n",
    "    :param a: semimajor axis\n",
    "    \"\"\"\n",
    "    return math.sqrt(2 * mu / r - mu / a)\n",
    "\n",
    "def flight_path_angle(e, theta):\n",
    "    \"\"\"\n",
    "    Calculates the Flight Path Angle (γ).  This is calculated using\n",
    "    the following equation:\n",
    "        \n",
    "    .. math::\n",
    "        \\tan{γ} = {\\frac{e * \\sin{\\theta}}{1 + 3 * \\cos{\\theta}}\n",
    "        \n",
    "    :param e: eccentricity of the elliptical orbit\n",
    "    :param theta: \n",
    "    \"\"\"\n",
    "    tan_y = (e * math.sin(math.radians(theta))) / (1 + e * math.cos(math.radians(theta)))\n",
    "    return math.atan(tan_y)\n",
    "\n",
    "def inclination(Omega, L_s, L_t, i):\n",
    "    a = math.radians(Omega + 180 - L_s)\n",
    "    b = math.radians(L_t - (180 + Omega))\n",
    "    alpha = math.radians(180 - i)\n",
    "    cos_c = math.cos(a) * math.cos(b) + math.sin(a) * math.sin(b) * math.cos(alpha)\n",
    "    c = math.acos(cos_c)\n",
    "    sin_i_t = (math.sin(alpha) * math.sin(b)) / math.sin(c)\n",
    "    return math.asin(sin_i_t)"
   ]
  },
  {
   "cell_type": "markdown",
   "metadata": {},
   "source": [
    "# Designing the Transfer Ellipse"
   ]
  },
  {
   "cell_type": "markdown",
   "metadata": {},
   "source": [
    "## Time of Flight"
   ]
  },
  {
   "cell_type": "code",
   "execution_count": 6,
   "metadata": {},
   "outputs": [
    {
     "data": {
      "text/plain": [
       "datetime.timedelta(109)"
      ]
     },
     "execution_count": 6,
     "metadata": {},
     "output_type": "execute_result"
    }
   ],
   "source": [
    "venus.date - earth.date"
   ]
  },
  {
   "cell_type": "code",
   "execution_count": 7,
   "metadata": {},
   "outputs": [
    {
     "data": {
      "text/plain": [
       "109"
      ]
     },
     "execution_count": 7,
     "metadata": {},
     "output_type": "execute_result"
    }
   ],
   "source": [
    "time_of_flight = venus.date - earth.date\n",
    "time_of_flight = time_of_flight.days\n",
    "time_of_flight"
   ]
  },
  {
   "cell_type": "markdown",
   "metadata": {},
   "source": [
    "## Eccentricity"
   ]
  },
  {
   "cell_type": "code",
   "execution_count": 8,
   "metadata": {},
   "outputs": [
    {
     "data": {
      "text/plain": [
       "312.99"
      ]
     },
     "execution_count": 8,
     "metadata": {},
     "output_type": "execute_result"
    }
   ],
   "source": [
    "line_of_apisides = 180\n",
    "true_anom = line_of_apisides + (venus.L - earth.L)\n",
    "true_anom"
   ]
  },
  {
   "cell_type": "code",
   "execution_count": 9,
   "metadata": {},
   "outputs": [
    {
     "data": {
      "text/plain": [
       "0.18248139155083334"
      ]
     },
     "execution_count": 9,
     "metadata": {},
     "output_type": "execute_result"
    }
   ],
   "source": [
    "eccentricity(earth.r, venus.r, line_of_apisides, true_anom)"
   ]
  },
  {
   "cell_type": "code",
   "execution_count": 10,
   "metadata": {
    "collapsed": true
   },
   "outputs": [],
   "source": [
    "e = eccentricity(earth.r, venus.r, line_of_apisides, true_anom)"
   ]
  },
  {
   "cell_type": "markdown",
   "metadata": {},
   "source": [
    "## Periapsis Radius"
   ]
  },
  {
   "cell_type": "code",
   "execution_count": 11,
   "metadata": {},
   "outputs": [
    {
     "data": {
      "text/plain": [
       "103555000.64338449"
      ]
     },
     "execution_count": 11,
     "metadata": {},
     "output_type": "execute_result"
    }
   ],
   "source": [
    "periapsis_radius(earth.r, e, line_of_apisides)"
   ]
  },
  {
   "cell_type": "code",
   "execution_count": 12,
   "metadata": {
    "collapsed": true
   },
   "outputs": [],
   "source": [
    "r_p = periapsis_radius(earth.r, e, line_of_apisides)"
   ]
  },
  {
   "cell_type": "markdown",
   "metadata": {},
   "source": [
    "## Semi-Major Axis"
   ]
  },
  {
   "cell_type": "code",
   "execution_count": 13,
   "metadata": {},
   "outputs": [
    {
     "data": {
      "text/plain": [
       "126672782.87461774"
      ]
     },
     "execution_count": 13,
     "metadata": {},
     "output_type": "execute_result"
    }
   ],
   "source": [
    "# Book apparently rounds the actual values here\n",
    "semimajor_axis(r_p=103.555e6, e=0.1825)"
   ]
  },
  {
   "cell_type": "code",
   "execution_count": 14,
   "metadata": {
    "collapsed": true
   },
   "outputs": [],
   "source": [
    "a = 126.673e6"
   ]
  },
  {
   "cell_type": "markdown",
   "metadata": {},
   "source": [
    "## Time of Flight"
   ]
  },
  {
   "cell_type": "code",
   "execution_count": 15,
   "metadata": {},
   "outputs": [
    {
     "data": {
      "text/plain": [
       "2.555228441264638e-07"
      ]
     },
     "execution_count": 15,
     "metadata": {},
     "output_type": "execute_result"
    }
   ],
   "source": [
    "n = mean_motion(mu_sun, a)\n",
    "n"
   ]
  },
  {
   "cell_type": "code",
   "execution_count": 16,
   "metadata": {},
   "outputs": [
    {
     "data": {
      "text/plain": [
       "142.3004906176582"
      ]
     },
     "execution_count": 16,
     "metadata": {},
     "output_type": "execute_result"
    }
   ],
   "source": [
    "peri_to_earth = time_since_periapsis(e, n, theta=line_of_apisides)\n",
    "peri_to_earth / 3600 / 24 # conversion from seconds to days"
   ]
  },
  {
   "cell_type": "code",
   "execution_count": 17,
   "metadata": {},
   "outputs": [
    {
     "data": {
      "text/plain": [
       "26.147769493949852"
      ]
     },
     "execution_count": 17,
     "metadata": {},
     "output_type": "execute_result"
    }
   ],
   "source": [
    "venus_to_peri = time_since_periapsis(e, n, theta=true_anom)\n",
    "venus_to_peri / 3600 / 24"
   ]
  },
  {
   "cell_type": "code",
   "execution_count": 18,
   "metadata": {},
   "outputs": [
    {
     "data": {
      "text/plain": [
       "116.15272112370833"
      ]
     },
     "execution_count": 18,
     "metadata": {},
     "output_type": "execute_result"
    }
   ],
   "source": [
    "(peri_to_earth - venus_to_peri) / 3600 / 24"
   ]
  },
  {
   "cell_type": "markdown",
   "metadata": {},
   "source": [
    "## Velocities"
   ]
  },
  {
   "cell_type": "code",
   "execution_count": 19,
   "metadata": {},
   "outputs": [
    {
     "data": {
      "text/plain": [
       "27.311820369855663"
      ]
     },
     "execution_count": 19,
     "metadata": {},
     "output_type": "execute_result"
    }
   ],
   "source": [
    "velocity(mu_sun, earth.r, 129.336e6)  # using the Value from the Book which appear to be rounded"
   ]
  },
  {
   "cell_type": "code",
   "execution_count": 20,
   "metadata": {},
   "outputs": [
    {
     "data": {
      "text/plain": [
       "37.5658013496493"
      ]
     },
     "execution_count": 20,
     "metadata": {},
     "output_type": "execute_result"
    }
   ],
   "source": [
    "velocity(mu_sun, venus.r, 129.336e6)  # again using the values from the book which appear to be rounded"
   ]
  },
  {
   "cell_type": "markdown",
   "metadata": {},
   "source": [
    "## Flight Path Angles"
   ]
  },
  {
   "cell_type": "code",
   "execution_count": 21,
   "metadata": {},
   "outputs": [
    {
     "data": {
      "text/plain": [
       "-3.9240754510024742"
      ]
     },
     "execution_count": 21,
     "metadata": {},
     "output_type": "execute_result"
    }
   ],
   "source": [
    "math.degrees(flight_path_angle(0.17194, 199.53))  # same as above, using the book values "
   ]
  },
  {
   "cell_type": "code",
   "execution_count": 22,
   "metadata": {},
   "outputs": [
    {
     "data": {
      "text/plain": [
       "-3.937976021774828"
      ]
     },
     "execution_count": 22,
     "metadata": {},
     "output_type": "execute_result"
    }
   ],
   "source": [
    "math.degrees(flight_path_angle(0.17194, 332.52))"
   ]
  },
  {
   "cell_type": "markdown",
   "metadata": {},
   "source": [
    "Now that I've verified the fundamental functions above, let's wrap this all up into a nice function that'll optimize this for us"
   ]
  },
  {
   "cell_type": "code",
   "execution_count": 25,
   "metadata": {},
   "outputs": [],
   "source": [
    "def transfer_ellipse(start_planet, end_planet, tof_accuracy=2, max_iters=1000, return_trials=False):\n",
    "    time_of_flight = end_planet.date - start_planet.date\n",
    "    time_of_flight = time_of_flight.days\n",
    "    \n",
    "    longs = []\n",
    "    tofs = []\n",
    "    \n",
    "    line_of_apisides = 180  # trial start\n",
    "    tof = 9999999999 # large number to get us started\n",
    "    \n",
    "    bottom_angle = 90\n",
    "    top_angle = 270\n",
    "    \n",
    "    \n",
    "    i = 0\n",
    "    _accuracy = 10 * 10 ** (-tof_accuracy)\n",
    "    \n",
    "#     while not(time_of_flight - _accuracy < tof / 3600 / 24 < time_of_flight + _accuracy) and i < max_iters:\n",
    "        \n",
    "#         line_of_apisides = (bottom_angle - top_angle) / 2\n",
    "        \n",
    "#         true_anom = line_of_apisides + (end_planet.L - start_planet.L)\n",
    "#         longs.append((line_of_apisides, true_anom))\n",
    "#         e = eccentricity(start_planet.r, end_planet.r, line_of_apisides, true_anom)\n",
    "#         r_p = periapsis_radius(start_planet.r, e, line_of_apisides)\n",
    "#         a = semimajor_axis(r_p=r_p, e=e)\n",
    "        \n",
    "#         n = mean_motion(mu_sun, a)\n",
    "        \n",
    "#         peri_to_start = time_since_periapsis(e, n, theta=line_of_apisides)\n",
    "#         end_to_peri = time_since_periapsis(e, n, theta=true_anom)\n",
    "        \n",
    "#         tof = peri_to_start - end_to_peri\n",
    "#         tofs.append(tof / 3600 / 24)\n",
    "        \n",
    "#         if tof / 3600 / 24 > time_of_flight:\n",
    "            \n",
    "            \n",
    "        \n",
    "        \n",
    "#         i += 1\n",
    "    \n",
    "    while  tof / 3600 / 24 > time_of_flight:\n",
    "        true_anom = line_of_apisides + (end_planet.L - start_planet.L)\n",
    "        longs.append((line_of_apisides, true_anom))\n",
    "        e = eccentricity(start_planet.r, end_planet.r, line_of_apisides, true_anom)\n",
    "        r_p = periapsis_radius(start_planet.r, e, line_of_apisides)\n",
    "        a = semimajor_axis(r_p=r_p, e=e)\n",
    "        \n",
    "        n = mean_motion(mu_sun, a)\n",
    "        \n",
    "        peri_to_start = time_since_periapsis(e, n, theta=line_of_apisides)\n",
    "        end_to_peri = time_since_periapsis(e, n, theta=true_anom)\n",
    "        \n",
    "        tof = peri_to_start - end_to_peri\n",
    "        tofs.append(tof / 3600 / 24)\n",
    "        line_of_apisides += 1\n",
    "        \n",
    "    # Calculate the Relative Velocities\n",
    "    V_start = velocity(mu_sun, start_planet.r, a)\n",
    "    V_end = velocity(mu_sun, end_planet.r, a)\n",
    "    \n",
    "    y_start = flight_path_angle(e, line_of_apisides)\n",
    "    y_end = flight_path_angle(e, true_anom)\n",
    "    \n",
    "    r_dict = {\n",
    "        'line_of_apisides': line_of_apisides - 1,  # subtract the 1 we added during the loop\n",
    "        'true_anom': true_anom,\n",
    "        'eccentricity': e,\n",
    "        'SMA': a,\n",
    "        'time_of_flight': tof,\n",
    "        'V_start': V_start,\n",
    "        'V_end': V_end,\n",
    "        'y_start': math.degrees(y_start),\n",
    "        'y_end': math.degrees(y_end)\n",
    "    }\n",
    "        \n",
    "        \n",
    "    if return_trials:\n",
    "        r_dict.update({'runs':{'longs': longs, 'tofs':tofs}})\n",
    "        \n",
    "    return r_dict"
   ]
  },
  {
   "cell_type": "code",
   "execution_count": 26,
   "metadata": {},
   "outputs": [
    {
     "data": {
      "text/plain": [
       "{'SMA': 129409584.84748629,\n",
       " 'V_end': 37.57356644194205,\n",
       " 'V_start': 27.322499813175646,\n",
       " 'eccentricity': 0.17194161459818322,\n",
       " 'line_of_apisides': 200,\n",
       " 'runs': {'longs': [(180, 312.99),\n",
       "   (181, 313.99),\n",
       "   (182, 314.99),\n",
       "   (183, 315.99),\n",
       "   (184, 316.99),\n",
       "   (185, 317.99),\n",
       "   (186, 318.99),\n",
       "   (187, 319.99),\n",
       "   (188, 320.99),\n",
       "   (189, 321.99),\n",
       "   (190, 322.99),\n",
       "   (191, 323.99),\n",
       "   (192, 324.99),\n",
       "   (193, 325.99),\n",
       "   (194, 326.99),\n",
       "   (195, 327.99),\n",
       "   (196, 328.99),\n",
       "   (197, 329.99),\n",
       "   (198, 330.99),\n",
       "   (199, 331.99),\n",
       "   (200, 332.99)],\n",
       "  'tofs': [116.148457777918,\n",
       "   115.72764012789808,\n",
       "   115.31505211672807,\n",
       "   114.91021086688738,\n",
       "   114.51266070582075,\n",
       "   114.12197093224192,\n",
       "   113.73773378007122,\n",
       "   113.3595625588372,\n",
       "   112.9870899518513,\n",
       "   112.61996645561301,\n",
       "   112.25785894576983,\n",
       "   111.90044935658801,\n",
       "   111.54743346230549,\n",
       "   111.19851974998757,\n",
       "   110.85342837458519,\n",
       "   110.51189018785357,\n",
       "   110.17364583362028,\n",
       "   109.83844490262828,\n",
       "   109.50604514081935,\n",
       "   109.17621170549155,\n",
       "   108.84871646425887]},\n",
       " 'time_of_flight': 9404529.102511967,\n",
       " 'true_anom': 332.99,\n",
       " 'y_end': -3.8737961211311402,\n",
       " 'y_start': -4.198024769621599}"
      ]
     },
     "execution_count": 26,
     "metadata": {},
     "output_type": "execute_result"
    }
   ],
   "source": [
    "tf = transfer_ellipse(earth, venus, return_trials=True)\n",
    "tf"
   ]
  },
  {
   "cell_type": "markdown",
   "metadata": {},
   "source": [
    "Interestingly enough, we're getting $\\theta_{Earth} = 194$, however the book claims that $\\theta_{Earth} = 199$.  I believe the discrepency here is found with the fact that the book apparently rounds their vaules while the values used by the functions above are more accurate.  "
   ]
  },
  {
   "cell_type": "markdown",
   "metadata": {
    "collapsed": true
   },
   "source": [
    "# Designing the Departure Trajectory"
   ]
  },
  {
   "cell_type": "markdown",
   "metadata": {},
   "source": [
    "## Plane Change"
   ]
  },
  {
   "cell_type": "code",
   "execution_count": 27,
   "metadata": {
    "scrolled": true
   },
   "outputs": [
    {
     "data": {
      "text/plain": [
       "176.606"
      ]
     },
     "execution_count": 27,
     "metadata": {},
     "output_type": "execute_result"
    }
   ],
   "source": [
    "alpha = 180 - venus.i\n",
    "alpha"
   ]
  },
  {
   "cell_type": "code",
   "execution_count": 28,
   "metadata": {},
   "outputs": [
    {
     "data": {
      "text/plain": [
       "59.04999999999998"
      ]
     },
     "execution_count": 28,
     "metadata": {},
     "output_type": "execute_result"
    }
   ],
   "source": [
    "a = venus.asc + 180 - earth.L\n",
    "a"
   ]
  },
  {
   "cell_type": "code",
   "execution_count": 29,
   "metadata": {},
   "outputs": [
    {
     "data": {
      "text/plain": [
       "73.94"
      ]
     },
     "execution_count": 29,
     "metadata": {},
     "output_type": "execute_result"
    }
   ],
   "source": [
    "b_prime = venus.L - (venus.asc + 180)\n",
    "b_prime"
   ]
  },
  {
   "cell_type": "code",
   "execution_count": 30,
   "metadata": {
    "collapsed": true
   },
   "outputs": [],
   "source": [
    "# b = b_prime # this can be used when the transfer angles are small.\n",
    "b = 73.967 # taken from the book b/c after much research, I still don't know how to solve a spherical right triangle"
   ]
  },
  {
   "cell_type": "code",
   "execution_count": 31,
   "metadata": {},
   "outputs": [
    {
     "data": {
      "text/plain": [
       "-0.6807696065337521"
      ]
     },
     "execution_count": 31,
     "metadata": {},
     "output_type": "execute_result"
    }
   ],
   "source": [
    "csc_c = math.cos(math.radians(a)) * math.cos(math.radians(b)) + math.sin(math.radians(a)) * math.sin(math.radians(b)) * math.cos(math.radians(alpha))\n",
    "csc_c"
   ]
  },
  {
   "cell_type": "code",
   "execution_count": 32,
   "metadata": {},
   "outputs": [
    {
     "data": {
      "text/plain": [
       "132.9038121230526"
      ]
     },
     "execution_count": 32,
     "metadata": {},
     "output_type": "execute_result"
    }
   ],
   "source": [
    "c = math.degrees(math.acos(csc_c))\n",
    "c"
   ]
  },
  {
   "cell_type": "code",
   "execution_count": 33,
   "metadata": {},
   "outputs": [
    {
     "data": {
      "text/plain": [
       "0.077678139136328"
      ]
     },
     "execution_count": 33,
     "metadata": {},
     "output_type": "execute_result"
    }
   ],
   "source": [
    "sin_i = (math.sin(math.radians(alpha)) * math.sin(math.radians(b))) / math.sin(math.radians(c))\n",
    "sin_i"
   ]
  },
  {
   "cell_type": "code",
   "execution_count": 34,
   "metadata": {},
   "outputs": [
    {
     "data": {
      "text/plain": [
       "4.455117500234571"
      ]
     },
     "execution_count": 34,
     "metadata": {},
     "output_type": "execute_result"
    }
   ],
   "source": [
    "i_t = math.degrees(math.asin(sin_i))\n",
    "i_t"
   ]
  },
  {
   "cell_type": "markdown",
   "metadata": {},
   "source": [
    "## Calculating $V_{HE}$ and C3"
   ]
  },
  {
   "cell_type": "code",
   "execution_count": 35,
   "metadata": {},
   "outputs": [
    {
     "data": {
      "text/plain": [
       "0.9933655398437907"
      ]
     },
     "execution_count": 35,
     "metadata": {},
     "output_type": "execute_result"
    }
   ],
   "source": [
    "# cos_alpha = math.cos(math.radians(i_t)) * math.cos(math.radians(earth.fp + tf['y_start']))\n",
    "cos_alpha = math.cos(math.radians(4.455)) * math.cos(math.radians(earth.fp + 3.924))  # using the value from the book, since my is different (and more accurate I believe)\n",
    "cos_alpha"
   ]
  },
  {
   "cell_type": "code",
   "execution_count": 36,
   "metadata": {},
   "outputs": [
    {
     "data": {
      "text/plain": [
       "6.603601037116707"
      ]
     },
     "execution_count": 36,
     "metadata": {},
     "output_type": "execute_result"
    }
   ],
   "source": [
    "alpha = math.degrees(math.acos(cos_alpha))\n",
    "alpha"
   ]
  },
  {
   "cell_type": "code",
   "execution_count": 37,
   "metadata": {},
   "outputs": [
    {
     "data": {
      "text/plain": [
       "16.725266359290117"
      ]
     },
     "execution_count": 37,
     "metadata": {},
     "output_type": "execute_result"
    }
   ],
   "source": [
    "#C3 = earth.v ** 2 + tf['V_start'] ** 2 - 2 * earth.v * tf['V_start'] * math.cos(math.radians(alpha))\n",
    "C3 = earth.v ** 2 + 27.312 ** 2 - 2 * earth.v * 27.312 * math.cos(math.radians(alpha))\n",
    "C3"
   ]
  },
  {
   "cell_type": "code",
   "execution_count": 38,
   "metadata": {},
   "outputs": [
    {
     "data": {
      "text/plain": [
       "4.089653574484044"
      ]
     },
     "execution_count": 38,
     "metadata": {},
     "output_type": "execute_result"
    }
   ],
   "source": [
    "V_he = math.sqrt(C3)\n",
    "V_he"
   ]
  },
  {
   "cell_type": "markdown",
   "metadata": {},
   "source": [
    "Similar to what we did for the Transfer Ellipse, let's combine all these steps into a single function to calculate these for us:"
   ]
  },
  {
   "cell_type": "code",
   "execution_count": 39,
   "metadata": {
    "collapsed": true
   },
   "outputs": [],
   "source": [
    "def depart_trajectory(start_planet, end_planet, y, V):\n",
    "    alpha = 180 - end_planet.i\n",
    "    a = end_planet.asc + 180 - start_planet.L\n",
    "    b = end_planet.L - (end_planet.asc + 180)\n",
    "    csc_c = math.cos(math.radians(a)) * math.cos(math.radians(b)) + math.sin(math.radians(a)) * math.sin(math.radians(b)) * math.cos(math.radians(alpha))\n",
    "    c = math.degrees(math.acos(csc_c))\n",
    "    sin_i = (math.sin(math.radians(alpha)) * math.sin(math.radians(b))) / math.sin(math.radians(c))\n",
    "    i_t = math.degrees(math.asin(sin_i))\n",
    "    \n",
    "    # if they have the same sign, subtract them, else add them\n",
    "    if start_planet.fp * y > 0:\n",
    "        y_s = abs(start_planet.fp) - abs(y)\n",
    "    else:\n",
    "        y_s = abs(start_planet.fp) + abs(y)\n",
    "    \n",
    "    cos_alpha = math.cos(math.radians(i_t)) * math.cos(math.radians(y_s))\n",
    "    alpha = math.degrees(math.acos(cos_alpha))\n",
    "    C3 = start_planet.v ** 2 + V ** 2 - 2 * start_planet.v * V * math.cos(math.radians(alpha))\n",
    "    V_he = math.sqrt(C3)\n",
    "    \n",
    "    r_dict = {\n",
    "        'i_t': i_t,\n",
    "        'C3': C3,\n",
    "        'V_he': V_he\n",
    "    }\n",
    "    \n",
    "    return r_dict"
   ]
  },
  {
   "cell_type": "code",
   "execution_count": 40,
   "metadata": {},
   "outputs": [
    {
     "data": {
      "text/plain": [
       "{'C3': 16.719919806431335,\n",
       " 'V_he': 4.0889998540512735,\n",
       " 'i_t': 4.452563682179637}"
      ]
     },
     "execution_count": 40,
     "metadata": {},
     "output_type": "execute_result"
    }
   ],
   "source": [
    "depart_trajectory(earth, venus, -3.924, 27.312)"
   ]
  },
  {
   "cell_type": "markdown",
   "metadata": {},
   "source": [
    "# Designing the Arrival Trajectory"
   ]
  },
  {
   "cell_type": "markdown",
   "metadata": {},
   "source": [
    "## Plane Change"
   ]
  },
  {
   "cell_type": "code",
   "execution_count": 41,
   "metadata": {},
   "outputs": [
    {
     "data": {
      "text/plain": [
       "176.606"
      ]
     },
     "execution_count": 41,
     "metadata": {},
     "output_type": "execute_result"
    }
   ],
   "source": [
    "alpha = 180 - venus.i\n",
    "alpha"
   ]
  },
  {
   "cell_type": "code",
   "execution_count": 42,
   "metadata": {},
   "outputs": [
    {
     "data": {
      "text/plain": [
       "59.04999999999998"
      ]
     },
     "execution_count": 42,
     "metadata": {},
     "output_type": "execute_result"
    }
   ],
   "source": [
    "a = venus.asc + 180 - earth.L\n",
    "a"
   ]
  },
  {
   "cell_type": "code",
   "execution_count": 43,
   "metadata": {},
   "outputs": [
    {
     "data": {
      "text/plain": [
       "73.94"
      ]
     },
     "execution_count": 43,
     "metadata": {},
     "output_type": "execute_result"
    }
   ],
   "source": [
    "b_prime = venus.L - (venus.asc + 180)\n",
    "b_prime"
   ]
  },
  {
   "cell_type": "code",
   "execution_count": 44,
   "metadata": {},
   "outputs": [
    {
     "data": {
      "text/plain": [
       "73.967"
      ]
     },
     "execution_count": 44,
     "metadata": {},
     "output_type": "execute_result"
    }
   ],
   "source": [
    "# b = b_prime # this can be used when the transfer angles are small.\n",
    "b = 73.967 # taken from the book b/c after much research, I still don't know how to solve a spherical right triangle\n",
    "b"
   ]
  },
  {
   "cell_type": "code",
   "execution_count": 45,
   "metadata": {},
   "outputs": [
    {
     "data": {
      "text/plain": [
       "-0.6807696065337521"
      ]
     },
     "execution_count": 45,
     "metadata": {},
     "output_type": "execute_result"
    }
   ],
   "source": [
    "csc_c = math.cos(math.radians(a)) * math.cos(math.radians(b)) + math.sin(math.radians(a)) * math.sin(math.radians(b)) * math.cos(math.radians(alpha))\n",
    "csc_c"
   ]
  },
  {
   "cell_type": "code",
   "execution_count": 46,
   "metadata": {},
   "outputs": [
    {
     "data": {
      "text/plain": [
       "132.9038121230526"
      ]
     },
     "execution_count": 46,
     "metadata": {},
     "output_type": "execute_result"
    }
   ],
   "source": [
    "c = math.degrees(math.acos(csc_c))\n",
    "c"
   ]
  },
  {
   "cell_type": "code",
   "execution_count": 47,
   "metadata": {},
   "outputs": [
    {
     "data": {
      "text/plain": [
       "0.06931417709828804"
      ]
     },
     "execution_count": 47,
     "metadata": {},
     "output_type": "execute_result"
    }
   ],
   "source": [
    "sin_it = math.sin(math.radians(alpha)) * math.sin(math.radians(a)) / math.sin(math.radians(c))\n",
    "sin_it"
   ]
  },
  {
   "cell_type": "code",
   "execution_count": 48,
   "metadata": {},
   "outputs": [
    {
     "data": {
      "text/plain": [
       "3.9745967799374893"
      ]
     },
     "execution_count": 48,
     "metadata": {},
     "output_type": "execute_result"
    }
   ],
   "source": [
    "it = math.degrees(math.asin(sin_it))\n",
    "it"
   ]
  },
  {
   "cell_type": "markdown",
   "metadata": {
    "collapsed": true
   },
   "source": [
    "## Calculating $V_\\infty$"
   ]
  },
  {
   "cell_type": "code",
   "execution_count": 49,
   "metadata": {},
   "outputs": [
    {
     "data": {
      "text/plain": [
       "5.503655202315073"
      ]
     },
     "execution_count": 49,
     "metadata": {},
     "output_type": "execute_result"
    }
   ],
   "source": [
    "#cos_alpha_inf = math.cos(math.radians(it)) * math.cos(math.radians(tf['y_end'] + venus.fp))\n",
    "cos_alpha_inf = math.cos(math.radians(it)) * math.cos(math.radians(3.938 + venus.fp))\n",
    "alpha_inf = math.acos(cos_alpha_inf)\n",
    "math.degrees(alpha_inf)"
   ]
  },
  {
   "cell_type": "code",
   "execution_count": 50,
   "metadata": {},
   "outputs": [
    {
     "data": {
      "text/plain": [
       "4.441657063867818"
      ]
     },
     "execution_count": 50,
     "metadata": {},
     "output_type": "execute_result"
    }
   ],
   "source": [
    "#C3 = venus.v ** 2 + tf['V_end'] ** 2 + 2 * venus.v * tf['V_end'] * math.cos(alpha_inf)\n",
    "C3 = venus.v ** 2 + 37.57 ** 2 - 2 * venus.v * 37.57 * math.cos(math.radians(5.5039))\n",
    "V_inf = math.sqrt(C3)\n",
    "V_inf# should be 4.442 km/s"
   ]
  },
  {
   "cell_type": "code",
   "execution_count": 51,
   "metadata": {
    "collapsed": true
   },
   "outputs": [],
   "source": [
    "def arrival_trajectory(start_planet, end_planet, y, V):\n",
    "    alpha = 180 - end_planet.i\n",
    "    a = end_planet.asc + 180 - start_planet.L\n",
    "    b = end_planet.L - (end_planet.asc + 180)\n",
    "    csc_c = math.cos(math.radians(a)) * math.cos(math.radians(b)) + math.sin(math.radians(a)) * math.sin(math.radians(b)) * math.cos(math.radians(alpha))\n",
    "    c = math.degrees(math.acos(csc_c))\n",
    "    sin_it = math.sin(math.radians(alpha)) * math.sin(math.radians(a)) / math.sin(math.radians(c))\n",
    "    it = math.degrees(math.asin(sin_it))\n",
    "    \n",
    "    # if they have the same sign, subtract them, else add them\n",
    "    if end_planet.fp * y > 0:\n",
    "        y_s = abs(abs(end_planet.fp) - abs(y))\n",
    "    else:\n",
    "        y_s = abs(abs(end_planet.fp) + abs(y))\n",
    "    \n",
    "    cos_alpha_inf = math.cos(math.radians(it)) * math.cos(math.radians(y_s + end_planet.fp))\n",
    "    alpha_inf = math.acos(cos_alpha_inf)\n",
    "    C3 = end_planet.v ** 2 + V ** 2 - 2 * end_planet.v * V * math.cos(math.radians(alpha_inf))\n",
    "    V_inf = math.sqrt(C3)\n",
    "    \n",
    "    r_dict = {\n",
    "        'i_t': it,\n",
    "        'V_inf': V_inf\n",
    "    }\n",
    "    \n",
    "    return r_dict"
   ]
  },
  {
   "cell_type": "code",
   "execution_count": 52,
   "metadata": {},
   "outputs": [
    {
     "data": {
      "text/plain": [
       "{'V_inf': 2.770641975896366, 'i_t': 3.9728586579304985}"
      ]
     },
     "execution_count": 52,
     "metadata": {},
     "output_type": "execute_result"
    }
   ],
   "source": [
    "arrival_trajectory(earth, venus, -3.938, 37.57)"
   ]
  },
  {
   "cell_type": "markdown",
   "metadata": {},
   "source": [
    "We're getting different answers here, becuase our angles are a little different.  `alpha_inf` as calculated by the book is 5.5039 while I'm getting 5.5036.  This is due to the rounding of the $i_{tp}$ as found in the book.  I'm getting 3.9745967799374893 while the books rounds this to 3.975.  See calculation below:"
   ]
  },
  {
   "cell_type": "code",
   "execution_count": 53,
   "metadata": {},
   "outputs": [
    {
     "data": {
      "text/plain": [
       "5.50394597482517"
      ]
     },
     "execution_count": 53,
     "metadata": {},
     "output_type": "execute_result"
    }
   ],
   "source": [
    "math.degrees(math.acos(math.cos(math.radians(3.975)) * math.cos(math.radians(3.938-0.128))))"
   ]
  },
  {
   "cell_type": "markdown",
   "metadata": {},
   "source": [
    "## Combining the Trajectories into a single function:"
   ]
  },
  {
   "cell_type": "code",
   "execution_count": 54,
   "metadata": {
    "collapsed": true
   },
   "outputs": [],
   "source": [
    "def trajectories(start_planet, end_planet, y_start, y_end, V_start, V_end):\n",
    "    alpha = 180 - end_planet.i\n",
    "    a = end_planet.asc + 180 - start_planet.L\n",
    "    b = end_planet.L - (end_planet.asc + 180)\n",
    "    csc_c = math.cos(math.radians(a)) * math.cos(math.radians(b)) + math.sin(math.radians(a)) * math.sin(math.radians(b)) * math.cos(math.radians(alpha))\n",
    "    c = math.degrees(math.acos(csc_c))\n",
    "    \n",
    "    sin_i_start = (math.sin(math.radians(alpha)) * math.sin(math.radians(b))) / math.sin(math.radians(c))\n",
    "    i_start = math.degrees(math.asin(sin_i_start))\n",
    "    \n",
    "    sin_i_end = math.sin(math.radians(alpha)) * math.sin(math.radians(a)) / math.sin(math.radians(c))\n",
    "    i_end = math.degrees(math.asin(sin_i_end))\n",
    "    \n",
    "    # if they have the same sign, subtract them, else add them\n",
    "    if start_planet.fp * y_start > 0:\n",
    "        y_s = abs(abs(start_planet.fp) - abs(y_start))\n",
    "    else:\n",
    "        y_s = abs(abs(start_planet.fp) + abs(y_start))\n",
    "    \n",
    "    cos_alpha = math.cos(math.radians(i_start)) * math.cos(math.radians(y_s))\n",
    "    alpha = math.degrees(math.acos(cos_alpha))\n",
    "    C3 = start_planet.v ** 2 + V_start ** 2 - 2 * start_planet.v * V_start * math.cos(math.radians(alpha))\n",
    "    V_he = math.sqrt(C3)\n",
    "    \n",
    "    if end_planet.fp * y_end > 0:\n",
    "        y_e = abs(abs(end_planet.fp) - abs(y_end))\n",
    "    else:\n",
    "        y_e = abs(abs(end_planet.fp) + abs(y_end))\n",
    "        \n",
    "    cos_alpha_inf = math.cos(math.radians(i_end)) * math.cos(math.radians(y_s + end_planet.fp))\n",
    "    alpha_inf = math.acos(cos_alpha_inf)\n",
    "    C3_inf = end_planet.v ** 2 + V_end ** 2 - 2 * end_planet.v * V_end * math.cos(math.radians(alpha_inf))\n",
    "    V_inf = math.sqrt(C3_inf)\n",
    "    \n",
    "    r_dict = {\n",
    "        'i_start': i_start,\n",
    "        'C3': C3,\n",
    "        'V_he': V_he,\n",
    "        'i_end': i_end,\n",
    "        'V_inf': V_inf\n",
    "    }\n",
    "    \n",
    "    return r_dict"
   ]
  },
  {
   "cell_type": "code",
   "execution_count": 55,
   "metadata": {},
   "outputs": [
    {
     "data": {
      "text/plain": [
       "{'C3': 16.719919806431335,\n",
       " 'V_he': 4.0889998540512735,\n",
       " 'V_inf': 2.77083910438389,\n",
       " 'i_end': 3.9728586579304985,\n",
       " 'i_start': 4.452563682179637}"
      ]
     },
     "execution_count": 55,
     "metadata": {},
     "output_type": "execute_result"
    }
   ],
   "source": [
    "trajectories(earth, venus, -3.924, -3.938, 27.312, 37.57)"
   ]
  },
  {
   "cell_type": "code",
   "execution_count": null,
   "metadata": {
    "collapsed": true
   },
   "outputs": [],
   "source": []
  }
 ],
 "metadata": {
  "kernelspec": {
   "display_name": "Python 3",
   "language": "python",
   "name": "python3"
  },
  "language_info": {
   "codemirror_mode": {
    "name": "ipython",
    "version": 3
   },
   "file_extension": ".py",
   "mimetype": "text/x-python",
   "name": "python",
   "nbconvert_exporter": "python",
   "pygments_lexer": "ipython3",
   "version": "3.6.0"
  }
 },
 "nbformat": 4,
 "nbformat_minor": 2
}
